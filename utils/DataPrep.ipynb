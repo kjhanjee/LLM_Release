{
 "cells": [
  {
   "cell_type": "code",
   "execution_count": 1,
   "metadata": {},
   "outputs": [],
   "source": [
    "import pandas as pd\n",
    "import os\n",
    "import re\n",
    "import warnings\n",
    "from tqdm.notebook import tqdm\n",
    "import multiprocessing\n",
    "\n",
    "#warnings.filterwarnings(\"ignore\")"
   ]
  },
  {
   "cell_type": "code",
   "execution_count": 2,
   "metadata": {},
   "outputs": [],
   "source": [
    "def process(base_dir,dir,file_name,index_val): \n",
    "    df_list = []\n",
    "    with open(base_dir+dir+'/'+file_name,'r') as f:\n",
    "        text = f.read()\n",
    "        text = re.sub('[^A-Za-z0-9\\?\\.\\!\\;\\,\\s\\r\\t\\n]',' ',text)\n",
    "        sentences = re.split(\"\\n\\n\",text)\n",
    "        for sentence in sentences:\n",
    "            sentence = re.sub('(\\.[^0-9])|(\\.[\\s\\n])',' . ',sentence)\n",
    "            sentence = re.sub('\\;',' ; ',sentence)\n",
    "            sentence = re.sub(':',' : ',sentence)\n",
    "            sentence = re.sub('\\?',' ? ',sentence)\n",
    "            sentence = re.sub('\\!',' ! ',sentence)\n",
    "            sentence = re.sub('\\,',' , ',sentence)\n",
    "            sentence = re.sub('[\\n\\r\\t],',' ',sentence)\n",
    "            sentence = sentence.strip()\n",
    "            sentence = sentence +' [END_GEN]'\n",
    "            while sentence.find('  ') > -1:\n",
    "                sentence = sentence.replace('  ',' ')\n",
    "            splits = sentence.split(' ')\n",
    "            for index,s_split in enumerate(splits):\n",
    "                if len(splits) != 2:\n",
    "                    if not index == len(splits) - 1: \n",
    "                        if index >= 5:\n",
    "                            temp_dict = {'Text':' '.join(splits[0:index+1]),'NW':splits[index+1]}\n",
    "                            df_list.append(temp_dict)\n",
    "                else:\n",
    "                    if not index == len(splits) - 1:\n",
    "                        temp_dict = {'Text':splits[0],'NW':splits[index+1]}\n",
    "                        df_list.append(temp_dict)\n",
    "    df = pd.DataFrame(df_list)\n",
    "    df.to_csv(base_dir+'NWP_Books.csv', index = False, mode='a',header = False)\n",
    "    with open(base_dir+'FilesCompleted.txt','w+') as f2:\n",
    "        f2.write(str(index_val))"
   ]
  },
  {
   "cell_type": "code",
   "execution_count": 3,
   "metadata": {},
   "outputs": [
    {
     "data": {
      "application/vnd.jupyter.widget-view+json": {
       "model_id": "ff632211fd2f4f8d9b396cd2f8a9ff9f",
       "version_major": 2,
       "version_minor": 0
      },
      "text/plain": [
       "  0%|          | 0/196604 [00:00<?, ?it/s]"
      ]
     },
     "metadata": {},
     "output_type": "display_data"
    }
   ],
   "source": [
    "base_dir = 'D:/Data/'\n",
    "dirs = os.listdir(base_dir)\n",
    "for dir in dirs[0:1]:\n",
    "    files = os.listdir(base_dir+dir)\n",
    "    p = multiprocessing.Pool()\n",
    "    for file_name in tqdm(files,total=len(files)):\n",
    "        p.apply_async(process, [base_dir,dir,file_name,files.index(file_name)]) \n",
    "    p.close()\n",
    "    p.join()"
   ]
  }
 ],
 "metadata": {
  "kernelspec": {
   "display_name": "base",
   "language": "python",
   "name": "python3"
  },
  "language_info": {
   "codemirror_mode": {
    "name": "ipython",
    "version": 3
   },
   "file_extension": ".py",
   "mimetype": "text/x-python",
   "name": "python",
   "nbconvert_exporter": "python",
   "pygments_lexer": "ipython3",
   "version": "3.9.16"
  },
  "orig_nbformat": 4
 },
 "nbformat": 4,
 "nbformat_minor": 2
}
