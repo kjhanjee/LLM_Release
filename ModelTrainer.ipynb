{
 "cells": [
  {
   "cell_type": "markdown",
   "metadata": {},
   "source": [
    "# Import Required Modules"
   ]
  },
  {
   "cell_type": "code",
   "execution_count": null,
   "metadata": {},
   "outputs": [],
   "source": [
    "import torch\n",
    "import os\n",
    "from model.LLMModel import LLMModel\n",
    "from model.LLMLayer import LLMLayer\n",
    "from utils.tokenizer import get_tokenizer\n",
    "from utils.training_data_generator import TrainingDataGen\n",
    "from utils.trainer import Trainer\n",
    "from utils.read_config import get_config"
   ]
  },
  {
   "cell_type": "code",
   "execution_count": null,
   "metadata": {},
   "outputs": [],
   "source": [
    "config = get_config()"
   ]
  },
  {
   "cell_type": "markdown",
   "metadata": {},
   "source": [
    "# Create Tokenizer object"
   ]
  },
  {
   "cell_type": "code",
   "execution_count": null,
   "metadata": {},
   "outputs": [],
   "source": [
    "tokenizer = get_tokenizer()"
   ]
  },
  {
   "cell_type": "markdown",
   "metadata": {},
   "source": [
    "# Initialize Model"
   ]
  },
  {
   "cell_type": "code",
   "execution_count": null,
   "metadata": {},
   "outputs": [],
   "source": [
    "\n",
    "embedding_dimension = 512\n",
    "max_sequence_length = 2048\n",
    "number_of_tokens = tokenizer.get_vocab_size()\n",
    "batch_size = 3\n",
    "data_gen_config_path = config['checkpoint_path']\n",
    "checkpoint_files = os.listdir(config['checkpoint_path'])\n",
    "data_gen_config_path = config['checkpoint_path']\n",
    "model_checkpoint_path = None\n",
    "for file in checkpoint_files:\n",
    "    if file.find(\".pt\") > -1:\n",
    "        model_checkpoint_path = config['checkpoint_path']+file\n",
    "\n",
    "# Create the model\n",
    "model = LLMModel(LLMLayer(\n",
    "    embedding_dimension=embedding_dimension,\n",
    "    number_of_tokens=number_of_tokens,\n",
    "    number_of_heads=4,\n",
    "    number_of_layers=64,\n",
    "    decoder_stacks=4,\n",
    "    dropout_rate=0.1,\n",
    "    max_sequence_length=max_sequence_length,\n",
    "    feed_forward_dimension=4*embedding_dimension,\n",
    "    training = True\n",
    "))\n",
    "\n",
    "optimizer = torch.optim.SGD(model.parameters(), lr=0.2)\n"
   ]
  },
  {
   "cell_type": "markdown",
   "metadata": {},
   "source": [
    "# Initialize the Data Generator"
   ]
  },
  {
   "cell_type": "code",
   "execution_count": null,
   "metadata": {},
   "outputs": [],
   "source": [
    "if data_gen_config_path:\n",
    "    if os.path.exists(os.path.join(data_gen_config_path,config['data_genrerator_config_name'])):\n",
    "        training_data_generator = TrainingDataGen(config_path=data_gen_config_path)\n",
    "    else:\n",
    "        training_data_generator = TrainingDataGen(base_path=config['data_path'])\n",
    "else:\n",
    "    training_data_generator = TrainingDataGen(base_path=config['data_path'])"
   ]
  },
  {
   "cell_type": "markdown",
   "metadata": {},
   "source": [
    "# Calculate Model Parameters"
   ]
  },
  {
   "cell_type": "code",
   "execution_count": null,
   "metadata": {},
   "outputs": [],
   "source": [
    "trainable_params = sum(p.numel() for p in model.parameters() if p.requires_grad)\n",
    "print(int(trainable_params)/pow(10,9))"
   ]
  },
  {
   "cell_type": "markdown",
   "metadata": {},
   "source": [
    "# Start Training"
   ]
  },
  {
   "cell_type": "code",
   "execution_count": null,
   "metadata": {},
   "outputs": [],
   "source": [
    "trainer = Trainer(model,training_data_generator, tokenizer, optimizer, max_sequence_length, model_checkpoint_path, batch_size)\n",
    "trainer.train(epochs=100, batch_size=batch_size)"
   ]
  }
 ],
 "metadata": {
  "kernelspec": {
   "display_name": "base",
   "language": "python",
   "name": "python3"
  },
  "language_info": {
   "codemirror_mode": {
    "name": "ipython",
    "version": 3
   },
   "file_extension": ".py",
   "mimetype": "text/x-python",
   "name": "python",
   "nbconvert_exporter": "python",
   "pygments_lexer": "ipython3",
   "version": "3.8.17"
  },
  "orig_nbformat": 4
 },
 "nbformat": 4,
 "nbformat_minor": 2
}
