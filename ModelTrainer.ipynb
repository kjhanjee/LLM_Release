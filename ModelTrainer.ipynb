{
 "cells": [
  {
   "cell_type": "markdown",
   "metadata": {},
   "source": [
    "# Import Required Modules"
   ]
  },
  {
   "cell_type": "code",
   "execution_count": 1,
   "metadata": {},
   "outputs": [],
   "source": [
    "import torch\n",
    "import os\n",
    "from model.LLMModel import LLMModel\n",
    "from model.LLMLayer import LLMLayer\n",
    "from utils.tokenizer import get_tokenizer\n",
    "from utils.training_data_generator import TrainingDataGen\n",
    "from utils.trainer import Trainer\n",
    "from utils.read_config import get_config"
   ]
  },
  {
   "cell_type": "code",
   "execution_count": 2,
   "metadata": {},
   "outputs": [],
   "source": [
    "config = get_config()"
   ]
  },
  {
   "cell_type": "markdown",
   "metadata": {},
   "source": [
    "# Create Tokenizer object"
   ]
  },
  {
   "cell_type": "code",
   "execution_count": 3,
   "metadata": {},
   "outputs": [],
   "source": [
    "tokenizer = get_tokenizer()"
   ]
  },
  {
   "cell_type": "markdown",
   "metadata": {},
   "source": [
    "# Initialize Model"
   ]
  },
  {
   "cell_type": "code",
   "execution_count": 4,
   "metadata": {},
   "outputs": [],
   "source": [
    "\n",
    "embedding_dimension = 512\n",
    "max_sequence_length = 2048\n",
    "number_of_tokens = tokenizer.get_vocab_size()\n",
    "batch_size = 1\n",
    "data_gen_config_path = config['checkpoint_path']\n",
    "checkpoint_files = os.listdir(config['checkpoint_path'])\n",
    "data_gen_config_path = config['checkpoint_path']\n",
    "model_checkpoint_path = None\n",
    "for file in checkpoint_files:\n",
    "    if file.find(\".pt\") > -1:\n",
    "        model_checkpoint_path = config['checkpoint_path']+file\n",
    "\n",
    "# Create the model\n",
    "model = LLMModel(LLMLayer(\n",
    "    embedding_dimension=embedding_dimension,\n",
    "    number_of_tokens=number_of_tokens,\n",
    "    number_of_heads=4,\n",
    "    number_of_layers=64,\n",
    "    decoder_stacks=2,\n",
    "    dropout_rate=0.1,\n",
    "    max_sequence_length=max_sequence_length,\n",
    "    feed_forward_dimension=4*embedding_dimension,\n",
    "    training = True\n",
    "))\n",
    "\n",
    "optimizer = torch.optim.Adam(model.parameters(), lr=0.0001)\n"
   ]
  },
  {
   "cell_type": "markdown",
   "metadata": {},
   "source": [
    "# Initialize the Data Generator"
   ]
  },
  {
   "cell_type": "code",
   "execution_count": 5,
   "metadata": {},
   "outputs": [],
   "source": [
    "if data_gen_config_path:\n",
    "    if os.path.exists(os.path.join(data_gen_config_path,config['data_genrerator_config_name'])):\n",
    "        training_data_generator = TrainingDataGen(config_path=data_gen_config_path)\n",
    "    else:\n",
    "        training_data_generator = TrainingDataGen(base_path=config['data_path'])\n",
    "else:\n",
    "    training_data_generator = TrainingDataGen(base_path=config['data_path'])"
   ]
  },
  {
   "cell_type": "markdown",
   "metadata": {},
   "source": [
    "# Calculate Model Parameters"
   ]
  },
  {
   "cell_type": "code",
   "execution_count": 6,
   "metadata": {},
   "outputs": [
    {
     "name": "stdout",
     "output_type": "stream",
     "text": [
      "0.455855536\n"
     ]
    }
   ],
   "source": [
    "trainable_params = sum(p.numel() for p in model.parameters() if p.requires_grad)\n",
    "print(int(trainable_params)/pow(10,9))"
   ]
  },
  {
   "cell_type": "markdown",
   "metadata": {},
   "source": [
    "# Start Training"
   ]
  },
  {
   "cell_type": "code",
   "execution_count": 7,
   "metadata": {},
   "outputs": [
    {
     "name": "stderr",
     "output_type": "stream",
     "text": [
      "\r  0%|          | 0/100 [8:56:17<?, ?it/s]"
     ]
    },
    {
     "name": "stdout",
     "output_type": "stream",
     "text": [
      "Current File:  d:/Data/books/0.txt\n",
      "Step 3826 Input Tensor: [' it only supplements it.\\n** 5.** People are your most important commodity.\\n** 6.** Patience matters.\\n** 7.** Never be romantic about how you make your money.\\n** 8.** Try to put yourself out of business daily.\\n These are my commandments.\\n\\n So you see, the clouds don\\'t just represent the big picture; they represent the huge picture, the everything. They are not goals. Goals can be achieved and set aside or moved. I\\'m Going to Buy the Jets is a goal. It drives me, too, but it\\'s not at the core of how I run my businesses.\\n\\n The dirt is about being a practitioner and executing toward those clouds. It\\'s the hard work. On a personal level, my dirt is making sure I communicate well with my loved ones, that I show up and stay present, that I apologize when I mess up and that I make sure it doesn\\'t happen too often. You know, the stuff of being a good spouse, parent, son, sibling, and friend. Professionally, it\\'s knowing my craft. It\\'s knowing there is a fifteen- person limit to an Instagram chat and that infographics overindex on Pinterest. It\\'s understanding Facebook ads and the ROI of Vine. It\\'s noticing changes and trends and figuring out how to take advantage of them before anybody else.\\n\\n The vast majority of people tend to play to the middle, which is why they usually only succeed up to a certain level and then plateau. Alternatively, they get stuck in one or the other, getting so bogged down by minutiae or politics they lose sight of the clouds, or so into the clouds they lose the appetite or neglect the skills they need to execute successfully. Ideas are worthless without the execution; execution is pointless without the ideas. You have to learn to prioritize properly and quickly identify what\\'s going to move you further ahead and what\\'s going to make you stall.\\n\\n I saw how these tendencies played out early in my career in the wine industry. I encountered a lot of amazing wine people with brilliant palates whose businesses stunk because they weren\\'t good at that part. Conversely, I\\'d meet with some of the best wine retailers in the country and be shocked to find that their actual knowledge about wine was incredibly limited. A great wine merchant has to be a businessperson first and a wine person second, for sure, but that second part really did matter. I always thought the reason the success of my family wine business, Wine Library, accelerated so quickly once I got involved was that I took both seriously. I knew my business, but I also knew my craft, and that practitionership—loving wine, tasting as many as I could, and caring about the regions and producers—created tremendous value for my customers and ridiculous ROI for me.\\n\\n I see a similar phenomenon in today\\'s marketing world. At this point in my career I have sat down hundreds of times to meet with people claiming to be social media experts, only to discover they have gaping holes in their knowledge about the platforms and little idea of how they have changed over time. This is why I feel justified telling potential clients that if they work with me, they\\'ll be working with the best social media practitioner at the best social agency in the country. Because at VaynerMedia, the clouds matter, and the dirt matters, and nothing else.\\n\\n There are too many people who are average at what they do, and then confused by their average results. Everyone has their own definition of clouds and dirt, but if there\\'s any advice I can offer you that will change the entire trajectory of your career, _ it\\'s to start pushing on both edges_ . Raise the bar on your business philosophy, dig deeper into your craft. You want to be an equally good architect as you are a mason. You\\'ve got to be able to simultaneously think at a high level and get your hands dirty.\\n\\n Can you elaborate on what the middle is and why it sucks?\\n To be in the middle is to be like everybody else. It\\'s a start- up that pitches me by saying: \"We\\'re going to do something in the photo app space.\" You mean like everybody has been doing for the past five years? It\\'s commodity work. It\\'s not influential and it\\'s not special. It\\'s safe.\\n\\n On any given day, I sit through four or more pitches. And the pitch I usually end up liking? The one where the players are actually doing the work. They\\'re in the trenches. They\\'re not just doing the big holistic thinking or the higher- level branding; they\\'re just at a raw level, executing. They\\'re engaging like mad and experimenting on platforms and trying things that risk getting them ridiculed in the trades. There really aren\\'t that many people who are hard practitioners like that. There also aren\\'t that many people who are looking far into the future. I\\'m talking 2025 and 2030. Everyone is hanging in the middle space, trying to get the most in the short term out of their new app instead of trying to build something that lasts.\\n\\n Let me put it this way: If you have pages and pages of notes, but no product, you\\'ve got nothing. If you can\\'t tell me how you\\'re going to build your product, you\\'ve got nothing. And if you are only thinking three years into the future, you\\'ve got a huge vulnerability. That\\'s what people in the middle are doing. The middle keeps everything going the way it always has. The clouds and the dirt break things.\\n\\n All the best apps, companies, and products have broken the way we live life, transformed how we communicate, and changed our day- to- day. Good products evolve us.\\n\\n You\\'re surrounded by the middle for 99.9 percent of your life. Most things are unremarkable. I want you to lose yourself in the clouds and the dirt and figure out what you can make that changes the game.\\n\\n Vagueness sucks. Lack of drive sucks. Half- assing things sucks. And so does the middle.\\n*** How do you know how much time to give to clouds versus dirt? Should you base your decision on your personality? Your strengths?***\\n\\n You need a healthy balance. If you\\'re leaning too far one way or the other that\\'s a problem. I\\'d be uncomfortable if you were 70/ 30 in any direction. That should be your absolute minimum.\\n\\n You do also need to map your DNA. If you\\'re a big- picture thinker, make sure you\\'re still spending 30 percent of your time honing your practitioner skills. If grinding and hustling is more your thing and where you want to spend 70 percent of your time, that\\'s cool, but keep at least 30 percent of your time reserved for getting in those trenches and seeing how your ideas actually play out in the real world. And there will be an ebb and flow. Sometimes you\\'ll have to switch from 70/ 30 to 30/ 70 because you were doing something right, and now you have to make sure all parts of the business, from the strategy to the operations, is caught up and heading in the same direction. At the time this question was asked, I was actually thinking that I would have to move into a 90/ 10 division of thinking versus execution because for the nine months prior I spent the majority of my time executing, and in that time I had spotted opportunities to rechart the company.\\n\\n There\\'s no perfect breakdown of clouds and dirt, but they always need to be in play. You have to make a commitment to strategy and execution and think of them holistically. There are too many prima donnas out there who think that as the brains of the business they don\\'t have to get their hands dirty.\\n\\n*** When is the long tail actually just moving the goalpost?***\\n\\n As most of my followers know, I want to buy the Jets. I\\'ve wanted to buy the Jets since I was a little kid. Three decades later, I\\'m still at it, but I\\'m not tired. That\\'s how long- term I am. Owning the Jets will be a by- product of ignoring anything other than the clouds and dirt. I consider every decision I make—from launching VaynerMedia to writing books to public speaking to doing a podcast and show—as a chess move, and I don\\'t make it unless it gets me closer to owning the Jets one day.\\n\\n But I suspect what you\\'re thinking is, big picture is great but if you\\'re ignoring all the little stuff in the short term, will you ever really reach your goal? I say yes, because when you have a big picture, a north star, a truly long- term vision, something interesting happens: You stop stressing the dumb little shit day in and day out because you\\'re playing the big game. So the short- term angst, which is really just a by- product of the friction caused by growth, becomes a little more manageable. And when you\\'re not stressing, you\\'ve got a whole lot more energy to go all in. If you\\'re single- mindedly focused on your long- term goal, you\\'ll be more effective in the short term and get there faster.\\n*** Where do you see yourself in five years?***\\n\\n I have no idea. I\\'m not a planner and don\\'t have a five- year plan. Five years ago Instagram and Snapchat didn\\'t exist, nor did GoPro. Netflix wasn\\'t what it is today. The world is changing too fast to be able to predict where I will be professionally. Personally I will be in better shape, I will spend more time with my family. I\\'ll be going to tee- ball games and ballets and shows and hacking my life to have better balance. Professionally I will be doing what I always do—listening to the marketplace and adjusting on the fly in']\n",
      "\n",
      "\n",
      "Step 3826 Target Tensor: [' only supplements it.\\n** 5.** People are your most important commodity.\\n** 6.** Patience matters.\\n** 7.** Never be romantic about how you make your money.\\n** 8.** Try to put yourself out of business daily.\\n These are my commandments.\\n\\n So you see, the clouds don\\'t just represent the big picture; they represent the huge picture, the everything. They are not goals. Goals can be achieved and set aside or moved. I\\'m Going to Buy the Jets is a goal. It drives me, too, but it\\'s not at the core of how I run my businesses.\\n\\n The dirt is about being a practitioner and executing toward those clouds. It\\'s the hard work. On a personal level, my dirt is making sure I communicate well with my loved ones, that I show up and stay present, that I apologize when I mess up and that I make sure it doesn\\'t happen too often. You know, the stuff of being a good spouse, parent, son, sibling, and friend. Professionally, it\\'s knowing my craft. It\\'s knowing there is a fifteen- person limit to an Instagram chat and that infographics overindex on Pinterest. It\\'s understanding Facebook ads and the ROI of Vine. It\\'s noticing changes and trends and figuring out how to take advantage of them before anybody else.\\n\\n The vast majority of people tend to play to the middle, which is why they usually only succeed up to a certain level and then plateau. Alternatively, they get stuck in one or the other, getting so bogged down by minutiae or politics they lose sight of the clouds, or so into the clouds they lose the appetite or neglect the skills they need to execute successfully. Ideas are worthless without the execution; execution is pointless without the ideas. You have to learn to prioritize properly and quickly identify what\\'s going to move you further ahead and what\\'s going to make you stall.\\n\\n I saw how these tendencies played out early in my career in the wine industry. I encountered a lot of amazing wine people with brilliant palates whose businesses stunk because they weren\\'t good at that part. Conversely, I\\'d meet with some of the best wine retailers in the country and be shocked to find that their actual knowledge about wine was incredibly limited. A great wine merchant has to be a businessperson first and a wine person second, for sure, but that second part really did matter. I always thought the reason the success of my family wine business, Wine Library, accelerated so quickly once I got involved was that I took both seriously. I knew my business, but I also knew my craft, and that practitionership—loving wine, tasting as many as I could, and caring about the regions and producers—created tremendous value for my customers and ridiculous ROI for me.\\n\\n I see a similar phenomenon in today\\'s marketing world. At this point in my career I have sat down hundreds of times to meet with people claiming to be social media experts, only to discover they have gaping holes in their knowledge about the platforms and little idea of how they have changed over time. This is why I feel justified telling potential clients that if they work with me, they\\'ll be working with the best social media practitioner at the best social agency in the country. Because at VaynerMedia, the clouds matter, and the dirt matters, and nothing else.\\n\\n There are too many people who are average at what they do, and then confused by their average results. Everyone has their own definition of clouds and dirt, but if there\\'s any advice I can offer you that will change the entire trajectory of your career, _ it\\'s to start pushing on both edges_ . Raise the bar on your business philosophy, dig deeper into your craft. You want to be an equally good architect as you are a mason. You\\'ve got to be able to simultaneously think at a high level and get your hands dirty.\\n\\n Can you elaborate on what the middle is and why it sucks?\\n To be in the middle is to be like everybody else. It\\'s a start- up that pitches me by saying: \"We\\'re going to do something in the photo app space.\" You mean like everybody has been doing for the past five years? It\\'s commodity work. It\\'s not influential and it\\'s not special. It\\'s safe.\\n\\n On any given day, I sit through four or more pitches. And the pitch I usually end up liking? The one where the players are actually doing the work. They\\'re in the trenches. They\\'re not just doing the big holistic thinking or the higher- level branding; they\\'re just at a raw level, executing. They\\'re engaging like mad and experimenting on platforms and trying things that risk getting them ridiculed in the trades. There really aren\\'t that many people who are hard practitioners like that. There also aren\\'t that many people who are looking far into the future. I\\'m talking 2025 and 2030. Everyone is hanging in the middle space, trying to get the most in the short term out of their new app instead of trying to build something that lasts.\\n\\n Let me put it this way: If you have pages and pages of notes, but no product, you\\'ve got nothing. If you can\\'t tell me how you\\'re going to build your product, you\\'ve got nothing. And if you are only thinking three years into the future, you\\'ve got a huge vulnerability. That\\'s what people in the middle are doing. The middle keeps everything going the way it always has. The clouds and the dirt break things.\\n\\n All the best apps, companies, and products have broken the way we live life, transformed how we communicate, and changed our day- to- day. Good products evolve us.\\n\\n You\\'re surrounded by the middle for 99.9 percent of your life. Most things are unremarkable. I want you to lose yourself in the clouds and the dirt and figure out what you can make that changes the game.\\n\\n Vagueness sucks. Lack of drive sucks. Half- assing things sucks. And so does the middle.\\n*** How do you know how much time to give to clouds versus dirt? Should you base your decision on your personality? Your strengths?***\\n\\n You need a healthy balance. If you\\'re leaning too far one way or the other that\\'s a problem. I\\'d be uncomfortable if you were 70/ 30 in any direction. That should be your absolute minimum.\\n\\n You do also need to map your DNA. If you\\'re a big- picture thinker, make sure you\\'re still spending 30 percent of your time honing your practitioner skills. If grinding and hustling is more your thing and where you want to spend 70 percent of your time, that\\'s cool, but keep at least 30 percent of your time reserved for getting in those trenches and seeing how your ideas actually play out in the real world. And there will be an ebb and flow. Sometimes you\\'ll have to switch from 70/ 30 to 30/ 70 because you were doing something right, and now you have to make sure all parts of the business, from the strategy to the operations, is caught up and heading in the same direction. At the time this question was asked, I was actually thinking that I would have to move into a 90/ 10 division of thinking versus execution because for the nine months prior I spent the majority of my time executing, and in that time I had spotted opportunities to rechart the company.\\n\\n There\\'s no perfect breakdown of clouds and dirt, but they always need to be in play. You have to make a commitment to strategy and execution and think of them holistically. There are too many prima donnas out there who think that as the brains of the business they don\\'t have to get their hands dirty.\\n\\n*** When is the long tail actually just moving the goalpost?***\\n\\n As most of my followers know, I want to buy the Jets. I\\'ve wanted to buy the Jets since I was a little kid. Three decades later, I\\'m still at it, but I\\'m not tired. That\\'s how long- term I am. Owning the Jets will be a by- product of ignoring anything other than the clouds and dirt. I consider every decision I make—from launching VaynerMedia to writing books to public speaking to doing a podcast and show—as a chess move, and I don\\'t make it unless it gets me closer to owning the Jets one day.\\n\\n But I suspect what you\\'re thinking is, big picture is great but if you\\'re ignoring all the little stuff in the short term, will you ever really reach your goal? I say yes, because when you have a big picture, a north star, a truly long- term vision, something interesting happens: You stop stressing the dumb little shit day in and day out because you\\'re playing the big game. So the short- term angst, which is really just a by- product of the friction caused by growth, becomes a little more manageable. And when you\\'re not stressing, you\\'ve got a whole lot more energy to go all in. If you\\'re single- mindedly focused on your long- term goal, you\\'ll be more effective in the short term and get there faster.\\n*** Where do you see yourself in five years?***\\n\\n I have no idea. I\\'m not a planner and don\\'t have a five- year plan. Five years ago Instagram and Snapchat didn\\'t exist, nor did GoPro. Netflix wasn\\'t what it is today. The world is changing too fast to be able to predict where I will be professionally. Personally I will be in better shape, I will spend more time with my family. I\\'ll be going to tee- ball games and ballets and shows and hacking my life to have better balance. Professionally I will be doing what I always do—listening to the marketplace and adjusting on the fly in real']\n",
      "\n",
      "\n",
      "Step 3826 Loss:  0.05935052037239075\n",
      "\n",
      "\n",
      "Step 3826 Output: [' only supplements it.\\n** 5.* People People are your most important commodity.\\n* 6 6.* Patience Patience matters.\\n* 7 7.** Never be romantic about how you make your money.** 8 8.** Try to put yourself out of business daily.\\n These are my commandments.\\n\\n So you see, the clouds don\\'t just represent the clouds picture; they represent the big picture, the everything. They are not goals. Goals can be achieved and set aside or moved. I\\'m Going to Buy the Jets is a goal. It drives me, too, but it\\'s not at the core of how I run my businesses.\\n\\n The dirt is about being a practitioner and executing toward those clouds. It\\'s the Jets work. On a personal level, my dirt is making sure I communicate well with my loved ones, that I show up and stay present, that I apologize when I mess up and that I make sure it doesn\\'t happen too often. You know, the stuff of being a good spouse, parent, son, sibling, and friend. Professionally, it\\'s knowing my craft. It\\'s knowing there is a fifteen- person limit to an Instagram chat and that infographics overindex on Pinterest. It\\'s understanding Facebook ads and the ROI of Vine. It\\'s noticing changes and figuring and figuring out how to take advantage of them before anybody else.\\n\\n The vast majority of people tend to play to the middle, which is why they usually only succeed up to a certain level and then plateau. Alternatively, they get stuck in one or the other, getting so bogged down by minutiae or politics they lose sight of the clouds, or so into the clouds they lose the appetite or neglect the skills they need to execute successfully. Ideas are worthless without the execution; execution is pointless without the ideas. You have to learn to prioritize properly and quickly identify what\\'s going to move you further ahead and what\\'s going to make you stall.\\n\\n I saw how these tendencies played out early in my career in the wine industry. I encountered a lot of amazing wine people with brilliant palates whose businesses stunk because they weren\\'t good at that part. Conversely, I\\'d meet with some of the best wine retailers in the best and be shocked to find that their actual knowledge about wine was incredibly limited. A great wine merchant has to be a businessperson first and a wine person second, for sure, but that second part really did matter. I always thought the reason the success of my family wine business, Wine Library, accelerated so quickly once I got involved was that I took both seriously. I knew my business, but I also knew my craft, and that practitionership—loving wine, tasting as many as I could, and caring about the regions and producers—created tremendous value for my customers and ridiculous ROI for me.\\n\\n I see a similar phenomenon in today\\'s marketing world. At this point in my career I have sat down hundreds of times to meet with people claiming to be social media experts, only to discover they have gaping holes in their knowledge about the platforms and little idea of how they have changed over time. This is why I feel justified telling potential clients that if they work with me, they\\'ll be working with the best social media practitioner at the best social agency in the country. Because at VaynerMedia, the clouds matter, and the clouds matters, and nothing else.\\n\\n There are too many people who are average at what they do, and then confused by their average results. Everyone has their own definition of clouds and dirt, but if there\\'s any advice I can offer you that will change the entire trajectory of your career, _ it\\'s to start pushing on both edges_ . Raise the bar on your business philosophy, dig deeper into your craft. You want to be an equally good architect as you are a mason. You\\'ve got to be able to simultaneously think at a high level and get your hands dirty.\\n\\n Can you elaborate on what the middle is and why it sucks?\\n To be in the middle is to be like everybody else. It\\'s a start- up that pitches me by saying: \"We\\'re going to do something in the photo app space.\" You mean like everybody has been doing for the past five years? It\\'s commodity work. It\\'s not influential and it\\'s not special. It\\'s safe.\\n\\n On any given day, I sit through four or more pitches. And the pitch I usually end up liking? The one where the players are actually doing the work. They\\'re in the trenches. They\\'re not just doing the big holistic thinking or the higher- level branding; they\\'re just at a raw level, executing. They\\'re engaging like mad and experimenting on platforms and trying things that risk getting them ridiculed in the trades. There really aren\\'t that many people who are hard practitioners like that. There also aren\\'t that many people who are looking far into the future. I\\'m talking 2025 and 2030. Everyone is hanging in the middle space, trying to get the most in the short term out of their new app instead of trying to build something that lasts.\\n\\n Let me put it this way: If you have pages and pages of notes, but no product, you\\'ve got nothing. If you can\\'t tell me how you\\'re going to build your product, you\\'ve got nothing. And if you are only thinking three years into the future, you\\'ve got a huge vulnerability. That\\'s what people in the middle are doing. The middle keeps everything going the way it always has. The clouds and the dirt break things.\\n\\n All the best apps, companies, and products have broken the way we live life, transformed how we communicate, and changed our day- to- day. Good products evolve us.\\n\\n You\\'re surrounded by the middle for 99.9 percent of your life. Most things are unremarkable. I want you to lose yourself in the clouds and the dirt and figure out what you can make that changes the game.\\n\\n Vagueness sucks. Lack of drive sucks. Half- assing things sucks. And so does the middle.\\n*** How do you know how much time to give to clouds versus dirt? Should you base your decision on your decision? Your strengths?***\\n\\n You need a healthy balance. If you\\'re leaning too far one way or the other that\\'s a problem. I\\'d be uncomfortable if you were 70/ 30 in any direction. That should be your absolute minimum.\\n\\n You do also need to map your DNA. If you\\'re a big- picture thinker, make sure you\\'re still spending 30 percent of your time honing your practitioner skills. If grinding and hustling is more your thing and where you want to spend 70 percent of your time, that\\'s cool, but keep at least 30 percent of your time reserved for getting in those trenches and seeing how your ideas actually play out in the real world. And there will be an ebb and flow. Sometimes you\\'ll have to switch from 70/ 30 to 30/ 70 because you were doing something right, and now you have to make sure all parts of the business, from the strategy to the operations, is caught up and heading in the same direction. At the time this question was asked, I was actually thinking that I would have to move into a 90/ 10 division of thinking versus execution because for the nine months prior I spent the majority of my time executing, and in that time I had spotted opportunities to rechart the company.\\n\\n There\\'s no perfect breakdown of clouds and dirt, but they always need to be in play. You have to make a commitment to strategy and execution and think of them holistically. There are too many prima donnas out there who think that as the brains of the business they don\\'t have to get their hands dirty.\\n\\n**** is the long tail actually just moving the goalpost?***\\n\\n As most of my followers know, I want to buy the Jets. I\\'ve wanted to buy the Jets since I was a little kid. Three decades later, I\\'m still at it, but I\\'m not tired. That\\'s how long- term I am. Owning the Jets will be a by- product of ignoring anything other than the clouds and dirt. I consider every decision I make—from launching VaynerMedia to writing books to public speaking to doing a podcast and show—as a chess move, and I don\\'t make it unless it gets me closer to owning the Jets one day.\\n\\n But I suspect what you\\'re thinking is, big picture is great but if you\\'re ignoring all the little stuff in the short term, will you ever really reach your goal? I say yes, because when you have a big picture, a north star, a truly long- term vision, something interesting happens: You stop stressing the dumb little shit day in and day out because you\\'re playing the big game. So the short- term angst, which is really just a by- product of the friction caused by growth, becomes a little more manageable. And when you\\'re not stressing, you\\'ve got a whole lot more energy to go all in. If you\\'re single- mindedly focused on your long- term goal, you\\'ll be more effective in the short term and get there faster.\\n** Where Where do you see yourself in five years?***\\n\\n I have no idea. I\\'m not a planner and don\\'t have a five- year plan. Five years ago Instagram and Snapchat didn\\'t exist, nor did GoPro. Netflix wasn\\'t what it is today. The world is changing too fast to be able to predict where I will be professionally. Personally I will be in better shape, I will spend more time with my family. I\\'ll be going to tee- ball games and ballets and shows and hacking my life to have better balance. Professionally I will be doing what I always- the the to the balance and games doing the balance doing doing']\n"
     ]
    }
   ],
   "source": [
    "trainer = Trainer(model,training_data_generator, tokenizer, optimizer, max_sequence_length, model_checkpoint_path, batch_size)\n",
    "trainer.train(epochs=100, batch_size=batch_size)"
   ]
  }
 ],
 "metadata": {
  "kernelspec": {
   "display_name": "base",
   "language": "python",
   "name": "python3"
  },
  "language_info": {
   "codemirror_mode": {
    "name": "ipython",
    "version": 3
   },
   "file_extension": ".py",
   "mimetype": "text/x-python",
   "name": "python",
   "nbconvert_exporter": "python",
   "pygments_lexer": "ipython3",
   "version": "3.8.17"
  },
  "orig_nbformat": 4
 },
 "nbformat": 4,
 "nbformat_minor": 2
}
