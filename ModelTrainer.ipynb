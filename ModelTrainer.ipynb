{
 "cells": [
  {
   "cell_type": "markdown",
   "metadata": {},
   "source": [
    "# Import Required Modules"
   ]
  },
  {
   "cell_type": "code",
   "execution_count": 5,
   "metadata": {},
   "outputs": [],
   "source": [
    "import torch\n",
    "import os\n",
    "from model.LLMModel import LLMModel\n",
    "from model.LLMLayer import LLMLayer\n",
    "from utils.tokenizer import get_tokenizer\n",
    "from utils.training_data_generator import TrainingDataGen\n",
    "from utils.trainer import Trainer\n",
    "from utils.read_config import get_config"
   ]
  },
  {
   "cell_type": "code",
   "execution_count": 6,
   "metadata": {},
   "outputs": [],
   "source": [
    "config = get_config()"
   ]
  },
  {
   "cell_type": "markdown",
   "metadata": {},
   "source": [
    "# Create Tokenizer object"
   ]
  },
  {
   "cell_type": "code",
   "execution_count": 7,
   "metadata": {},
   "outputs": [],
   "source": [
    "tokenizer = get_tokenizer()"
   ]
  },
  {
   "cell_type": "markdown",
   "metadata": {},
   "source": [
    "# Initialize Model"
   ]
  },
  {
   "cell_type": "code",
   "execution_count": 8,
   "metadata": {},
   "outputs": [],
   "source": [
    "\n",
    "embedding_dimension = 512\n",
    "max_sequence_length = 2048\n",
    "number_of_tokens = tokenizer.get_vocab_size()\n",
    "batch_size = 1\n",
    "data_gen_config_path = config['checkpoint_path']\n",
    "checkpoint_files = os.listdir(config['checkpoint_path'])\n",
    "data_gen_config_path = config['checkpoint_path']\n",
    "model_checkpoint_path = None\n",
    "for file in checkpoint_files:\n",
    "    if file.find(\".pt\") > -1:\n",
    "        model_checkpoint_path = config['checkpoint_path']+file\n",
    "\n",
    "# Create the model\n",
    "model = LLMModel(LLMLayer(\n",
    "    embedding_dimension=embedding_dimension,\n",
    "    number_of_tokens=number_of_tokens,\n",
    "    number_of_heads=4,\n",
    "    number_of_layers=64,\n",
    "    decoder_stacks=2,\n",
    "    dropout_rate=0.1,\n",
    "    max_sequence_length=max_sequence_length,\n",
    "    feed_forward_dimension=4*embedding_dimension,\n",
    "    training = True\n",
    "))\n",
    "\n",
    "optimizer = torch.optim.Adam(model.parameters(), lr=0.0001)\n"
   ]
  },
  {
   "cell_type": "markdown",
   "metadata": {},
   "source": [
    "# Initialize the Data Generator"
   ]
  },
  {
   "cell_type": "code",
   "execution_count": 9,
   "metadata": {},
   "outputs": [],
   "source": [
    "if data_gen_config_path:\n",
    "    if os.path.exists(os.path.join(data_gen_config_path,config['data_genrerator_config_name'])):\n",
    "        training_data_generator = TrainingDataGen(config_path=data_gen_config_path)\n",
    "    else:\n",
    "        training_data_generator = TrainingDataGen(base_path=config['data_path'])\n",
    "else:\n",
    "    training_data_generator = TrainingDataGen(base_path=config['data_path'])"
   ]
  },
  {
   "cell_type": "markdown",
   "metadata": {},
   "source": [
    "# Calculate Model Parameters"
   ]
  },
  {
   "cell_type": "code",
   "execution_count": 10,
   "metadata": {},
   "outputs": [
    {
     "name": "stdout",
     "output_type": "stream",
     "text": [
      "0.489420208\n"
     ]
    }
   ],
   "source": [
    "trainable_params = sum(p.numel() for p in model.parameters() if p.requires_grad)\n",
    "print(int(trainable_params)/pow(10,9))"
   ]
  },
  {
   "cell_type": "markdown",
   "metadata": {},
   "source": [
    "# Start Training"
   ]
  },
  {
   "cell_type": "code",
   "execution_count": 11,
   "metadata": {},
   "outputs": [
    {
     "name": "stderr",
     "output_type": "stream",
     "text": [
      "\r  0%|          | 0/100 [00:00<?, ?it/s]"
     ]
    },
    {
     "name": "stdout",
     "output_type": "stream",
     "text": [
      "Current File:  d:/Data/books/1.txt\n",
      "Step 3 Input Tensor: [' # BeccaToldMeTo\\n\\n\\n ## PREFACE\\n\\n Thank you for reading this. I wanted the book to start with Darren\\'s Foreword, but thought that I should give you some insight into how all this came together before you jump into it. Like the book itself, I find it\\'s an interesting story in building human connection. I\\'ll try to be concise. I\\'m only one paragraph in and I already feel like a speaker at an award ceremony who is getting rushed off stage and the microphone is disappearing into it.\\n\\n As a first- time author, the path to get published was anything but linear. I have been fascinated with the concept of self- publishing for 2 years but never published a book of my own. After reading countless books on the subject, listening to podcasts, buying courses and Skyping one- on- one with 2 bestselling authors - I gave myself a wicked case of analysis paralysis.\\n\\n When I started this audacious goal of writing books, my wife told me 2 years ago that I should just start blogging instead. My wife is smart, I should have listened. So I started blogging and my 6th post on January 8th 2017 was about Becca and her story:\\n\\n JasonTremere.com/ BeccaToldMeTo\\n\\n This post, early in my blogging days, opened the door to my connection with Becca\\'s Dad, Darren Schofield who commented the very next day:\\n\\n That is a very well- written, complete, and very touching post on Becca\\'s story. Thank you for sharing it in such a perfect way. I wouldn\\'t change one thing in it.\\n\\n As part of that exchange, I offered to help create a fundraising book and brainstormed a few concepts. Over the next month, I used my Computer Science background to pull all of the posts in Becca\\'s group into a database and proposed that this could make a great book. On February 19th 2017, I was suddenly in the Schofield\\'s living room with the entire family - sitting beside Becca and her little dog Benny, sharing memories, chocolates and laughter. I truly felt like I was part of the family for those 3 hours.\\n\\n The rest of the book came together in the months following that and in the process I became friends with Darren. For someone going through what he is going through, I am truly amazed how he maintains clarity, positivity and his sense of humor. He is an all- around great person. I am heartbroken for what they are going through as a family, but grateful to help.\\n\\n Along this book journey with the Schofield\\'s, on April 11th 2017, I initiated an idea to help a local non- profit close to Becca, The Humanity Project:\\n\\n JasonTremere.com/ The- Humanity- Project- Homeless\\n\\n In a cruel twist of poetic injustice, a local initiative that helps the homeless was homeless itself for a while and ended up serving food and performing haircuts outside in parking lots. They were evicted from a building where they provided meals, clothes and other necessities to people in our community. The founder Charlie Burrell turned to that community to raise money and help him find a new home.\\n\\n On August 30th 2017, he did find a new home and this book helped raise almost $ 2,000 towards it. We asked people to donate at least $ 10 for a free copy of the eBook. Many went beyond $ 10 and donated $ 20, $ 25 and even $ 50. The top contributors were $ 110 and $ 400!\\n\\n I am so happy that this book now exists for everyone to enjoy and spread kindness with. It made me laugh, cry and sometimes both in the same post. I have spent many early morning hours, over many months, compiling and editing this collection. It was hard work, but at the same time, very rewarding.\\n\\n In a world where I cannot bear to read about the latest random act of violence, it gives me hope that there is somewhere I can turn to read about real life random acts of kindness.\\n\\n Throughout this collection, the Tweet number is what I call the \"Happiness Multiplier\". It\\'s the total Likes, Loves and Wows from members of Becca\\'s Facebook Group, \"Becca\\'s Battle with Butterscotch\". You can find direct links on this website I registered, built and donated to the movement:\\n\\n BeccaToldMeTo.ca\\n\\n True kindness exists in the world and the benefits of sharing it are exponential. Doing something kind benefits both the giver and receiver, but sharing the story multiplies that happiness and inspires others. I hope this book restores your faith in humanity, it did for me.\\n\\n\\n ## FOREWORD \\n\\n by Darren Schofield\\n\\n Tomorrow is promised to no one. Nobody really knows beforehand when their time is going to be done on this Earth. Well, almost nobody. Imagine your doctor came to you and told you that you had 3 months to a year to live. What would you do? I can\\'t answer this question, because I don\\'t really know what I would do. But I\\'m going to tell you what Becca Schofield did.\\n\\n Becca is my youngest daughter, and received this news after battling brain cancer for over 2 years. It was December 2, 2016 and she was 17 when the doctors broke the news to us that 2 new tumours had been found on the latest MRI scan and was given a terminal diagnosis.\\n\\n One of the first things she did after we notified friends and family was to compose a public post for Facebook. She had created a Facebook page called \"Becca\\'s Battle with Butterscotch\" where friends, family, peers, and community could follow her story. This is the post she composed:\\n\\n In case you don\\'t read my mom\\'s posts or haven\\'t heard, we got some devastating news last Friday. They found two new tumours, ( named Snape and Umbridge, my two least favourite Harry Potter characters) and they\\'re inoperable. They\\'ve given me three months to year to live if I\\'m lucky. I\\'m still trying to wrap my head around the news.. it\\'s not easy. I\\'m sad I\\'ll never get married. I\\'m happy that I\\'ll stop being sick. I\\'m sad I\\'ll never fully regain mobility. I have mixed emotions that I\\'ll never graduate high school, but I sure am happy to be done math. I\\'m excited to write my bucket list, do everything on it, and live out the rest of my days as happily as I can. I\\'m happy my parents will let me get a tattoo. I\\'m scared, but eager to do all the amazing things I know I\\'ll get to do before long. I\\'m about to have a hell of a great year and I don\\'t know what else to say other than thank you for the support and strength you\\'ve given my family, and the kindness you\\'ve shown my family. Please try to think less of how my life will be cut short and more of how wicked awesome my time left will be! Also, when I\\'m becoming a nasty little dictator and trying to get help for completing my bucket list, try not to hold it against me. Speaking of which, Darren Schofield, would you tag Nancy Pipes and see if we could get one last batch of dinner rolls before they move?\\n\\n To say I was proud, would be a monumental understatement. I\\'m sure that my heart swelled to 3 times its normal size- much like the Grinch\\'s did in the Dr. Seuss story, although for very different reasons. The news travelled fast in our little circle of friends, family, and community. But then a funny thing happened. Friends of friends shared her post. And then friends of friends of friends. Becca\\'s Battle with Butterscotch grew from 600 members to 1,000 overnight.\\n\\n As the story spread, and more people read her post, everybody wanted to help. The only actual item on her bucket list that was mentioned in her post was a tattoo. The amount of offers we received for people to pay for Becca\\'s tattoo was staggering. This was our first clue that Becca\\'s story was near and dear to many hearts in our hometown of Riverview, New Brunswick.\\n\\n As Becca started to create her Bucket List, we noticed a funny thing. There weren\\'t many \"things\" on her list. It was mostly spending time with friends and family, revisiting places we went as a family, watching me or her cousins play video games, and going to favorite restaurants. Since nausea has been debilitating to Becca since the start of her battle, visiting restaurants is not usually an option. So that left:\\n\\n 1. Spending time with friends and family.\\n\\n 2. Riding on a train again.\\n\\n 3. Skating with her older sister Gabrielle again.\\n\\n 4. Experiencing going to a live NHL game with Gabrielle and\\n\\n 5. Meeting Ellen DeGeneres and the band Five Seconds of Summer.\\n\\n That\\'s pretty much it. But mostly spending time with friends and family. And video games.\\n\\n The next thing Becca did was to agree to undergo 5 more radiation treatments in an effort to shrink the new tumours. As we navigated through the treatment, we wanted to celebrate the end of radiation in a grand fashion. You see, an idea had occurred to us the previous week. Since not everybody could actively help with a specific item on the Bucket List, Becca decided to include everybody, try to create a mass of acts of kindness, and make it a trending topic on Twitter.\\n\\n She created the hashtag: #BeccaToldMeTo and explained it in this post on December 15, 2016:\\n\\n Since so many people want to help with my bucket list, dad and I have masterminded a plan that will allow anyone to help with my bucket list. No matter how young or old, rich or poor, no matter where in the world you are you can participate. I']\n",
      "\n",
      "\n",
      "Step 3 Target Tensor: [' BeccaToldMeTo\\n\\n\\n ## PREFACE\\n\\n Thank you for reading this. I wanted the book to start with Darren\\'s Foreword, but thought that I should give you some insight into how all this came together before you jump into it. Like the book itself, I find it\\'s an interesting story in building human connection. I\\'ll try to be concise. I\\'m only one paragraph in and I already feel like a speaker at an award ceremony who is getting rushed off stage and the microphone is disappearing into it.\\n\\n As a first- time author, the path to get published was anything but linear. I have been fascinated with the concept of self- publishing for 2 years but never published a book of my own. After reading countless books on the subject, listening to podcasts, buying courses and Skyping one- on- one with 2 bestselling authors - I gave myself a wicked case of analysis paralysis.\\n\\n When I started this audacious goal of writing books, my wife told me 2 years ago that I should just start blogging instead. My wife is smart, I should have listened. So I started blogging and my 6th post on January 8th 2017 was about Becca and her story:\\n\\n JasonTremere.com/ BeccaToldMeTo\\n\\n This post, early in my blogging days, opened the door to my connection with Becca\\'s Dad, Darren Schofield who commented the very next day:\\n\\n That is a very well- written, complete, and very touching post on Becca\\'s story. Thank you for sharing it in such a perfect way. I wouldn\\'t change one thing in it.\\n\\n As part of that exchange, I offered to help create a fundraising book and brainstormed a few concepts. Over the next month, I used my Computer Science background to pull all of the posts in Becca\\'s group into a database and proposed that this could make a great book. On February 19th 2017, I was suddenly in the Schofield\\'s living room with the entire family - sitting beside Becca and her little dog Benny, sharing memories, chocolates and laughter. I truly felt like I was part of the family for those 3 hours.\\n\\n The rest of the book came together in the months following that and in the process I became friends with Darren. For someone going through what he is going through, I am truly amazed how he maintains clarity, positivity and his sense of humor. He is an all- around great person. I am heartbroken for what they are going through as a family, but grateful to help.\\n\\n Along this book journey with the Schofield\\'s, on April 11th 2017, I initiated an idea to help a local non- profit close to Becca, The Humanity Project:\\n\\n JasonTremere.com/ The- Humanity- Project- Homeless\\n\\n In a cruel twist of poetic injustice, a local initiative that helps the homeless was homeless itself for a while and ended up serving food and performing haircuts outside in parking lots. They were evicted from a building where they provided meals, clothes and other necessities to people in our community. The founder Charlie Burrell turned to that community to raise money and help him find a new home.\\n\\n On August 30th 2017, he did find a new home and this book helped raise almost $ 2,000 towards it. We asked people to donate at least $ 10 for a free copy of the eBook. Many went beyond $ 10 and donated $ 20, $ 25 and even $ 50. The top contributors were $ 110 and $ 400!\\n\\n I am so happy that this book now exists for everyone to enjoy and spread kindness with. It made me laugh, cry and sometimes both in the same post. I have spent many early morning hours, over many months, compiling and editing this collection. It was hard work, but at the same time, very rewarding.\\n\\n In a world where I cannot bear to read about the latest random act of violence, it gives me hope that there is somewhere I can turn to read about real life random acts of kindness.\\n\\n Throughout this collection, the Tweet number is what I call the \"Happiness Multiplier\". It\\'s the total Likes, Loves and Wows from members of Becca\\'s Facebook Group, \"Becca\\'s Battle with Butterscotch\". You can find direct links on this website I registered, built and donated to the movement:\\n\\n BeccaToldMeTo.ca\\n\\n True kindness exists in the world and the benefits of sharing it are exponential. Doing something kind benefits both the giver and receiver, but sharing the story multiplies that happiness and inspires others. I hope this book restores your faith in humanity, it did for me.\\n\\n\\n ## FOREWORD \\n\\n by Darren Schofield\\n\\n Tomorrow is promised to no one. Nobody really knows beforehand when their time is going to be done on this Earth. Well, almost nobody. Imagine your doctor came to you and told you that you had 3 months to a year to live. What would you do? I can\\'t answer this question, because I don\\'t really know what I would do. But I\\'m going to tell you what Becca Schofield did.\\n\\n Becca is my youngest daughter, and received this news after battling brain cancer for over 2 years. It was December 2, 2016 and she was 17 when the doctors broke the news to us that 2 new tumours had been found on the latest MRI scan and was given a terminal diagnosis.\\n\\n One of the first things she did after we notified friends and family was to compose a public post for Facebook. She had created a Facebook page called \"Becca\\'s Battle with Butterscotch\" where friends, family, peers, and community could follow her story. This is the post she composed:\\n\\n In case you don\\'t read my mom\\'s posts or haven\\'t heard, we got some devastating news last Friday. They found two new tumours, ( named Snape and Umbridge, my two least favourite Harry Potter characters) and they\\'re inoperable. They\\'ve given me three months to year to live if I\\'m lucky. I\\'m still trying to wrap my head around the news.. it\\'s not easy. I\\'m sad I\\'ll never get married. I\\'m happy that I\\'ll stop being sick. I\\'m sad I\\'ll never fully regain mobility. I have mixed emotions that I\\'ll never graduate high school, but I sure am happy to be done math. I\\'m excited to write my bucket list, do everything on it, and live out the rest of my days as happily as I can. I\\'m happy my parents will let me get a tattoo. I\\'m scared, but eager to do all the amazing things I know I\\'ll get to do before long. I\\'m about to have a hell of a great year and I don\\'t know what else to say other than thank you for the support and strength you\\'ve given my family, and the kindness you\\'ve shown my family. Please try to think less of how my life will be cut short and more of how wicked awesome my time left will be! Also, when I\\'m becoming a nasty little dictator and trying to get help for completing my bucket list, try not to hold it against me. Speaking of which, Darren Schofield, would you tag Nancy Pipes and see if we could get one last batch of dinner rolls before they move?\\n\\n To say I was proud, would be a monumental understatement. I\\'m sure that my heart swelled to 3 times its normal size- much like the Grinch\\'s did in the Dr. Seuss story, although for very different reasons. The news travelled fast in our little circle of friends, family, and community. But then a funny thing happened. Friends of friends shared her post. And then friends of friends of friends. Becca\\'s Battle with Butterscotch grew from 600 members to 1,000 overnight.\\n\\n As the story spread, and more people read her post, everybody wanted to help. The only actual item on her bucket list that was mentioned in her post was a tattoo. The amount of offers we received for people to pay for Becca\\'s tattoo was staggering. This was our first clue that Becca\\'s story was near and dear to many hearts in our hometown of Riverview, New Brunswick.\\n\\n As Becca started to create her Bucket List, we noticed a funny thing. There weren\\'t many \"things\" on her list. It was mostly spending time with friends and family, revisiting places we went as a family, watching me or her cousins play video games, and going to favorite restaurants. Since nausea has been debilitating to Becca since the start of her battle, visiting restaurants is not usually an option. So that left:\\n\\n 1. Spending time with friends and family.\\n\\n 2. Riding on a train again.\\n\\n 3. Skating with her older sister Gabrielle again.\\n\\n 4. Experiencing going to a live NHL game with Gabrielle and\\n\\n 5. Meeting Ellen DeGeneres and the band Five Seconds of Summer.\\n\\n That\\'s pretty much it. But mostly spending time with friends and family. And video games.\\n\\n The next thing Becca did was to agree to undergo 5 more radiation treatments in an effort to shrink the new tumours. As we navigated through the treatment, we wanted to celebrate the end of radiation in a grand fashion. You see, an idea had occurred to us the previous week. Since not everybody could actively help with a specific item on the Bucket List, Becca decided to include everybody, try to create a mass of acts of kindness, and make it a trending topic on Twitter.\\n\\n She created the hashtag: #BeccaToldMeTo and explained it in this post on December 15, 2016:\\n\\n Since so many people want to help with my bucket list, dad and I have masterminded a plan that will allow anyone to help with my bucket list. No matter how young or old, rich or poor, no matter where in the world you are you can participate. I want']\n"
     ]
    }
   ],
   "source": [
    "trainer = Trainer(model, tokenizer, optimizer, max_sequence_length, model_checkpoint_path, batch_size)\n",
    "trainer.train(training_data_generator, epochs=100, batch_size=batch_size)"
   ]
  }
 ],
 "metadata": {
  "kernelspec": {
   "display_name": "base",
   "language": "python",
   "name": "python3"
  },
  "language_info": {
   "codemirror_mode": {
    "name": "ipython",
    "version": 3
   },
   "file_extension": ".py",
   "mimetype": "text/x-python",
   "name": "python",
   "nbconvert_exporter": "python",
   "pygments_lexer": "ipython3",
   "version": "3.8.17"
  },
  "orig_nbformat": 4
 },
 "nbformat": 4,
 "nbformat_minor": 2
}
