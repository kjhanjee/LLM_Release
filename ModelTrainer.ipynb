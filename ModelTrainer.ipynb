{
 "cells": [
  {
   "cell_type": "markdown",
   "metadata": {},
   "source": [
    "# Import Required Modules"
   ]
  },
  {
   "cell_type": "code",
   "execution_count": 1,
   "metadata": {},
   "outputs": [],
   "source": [
    "import torch\n",
    "import os\n",
    "from model.LLMModel import LLMModel\n",
    "from model.LLMLayer import LLMLayer\n",
    "from utils.tokenizer import get_tokenizer\n",
    "from utils.training_data_generator import TrainingDataGen\n",
    "from utils.trainer import Trainer\n",
    "from utils.read_config import get_config"
   ]
  },
  {
   "cell_type": "code",
   "execution_count": 2,
   "metadata": {},
   "outputs": [],
   "source": [
    "config = get_config()"
   ]
  },
  {
   "cell_type": "markdown",
   "metadata": {},
   "source": [
    "# Create Tokenizer object"
   ]
  },
  {
   "cell_type": "code",
   "execution_count": 3,
   "metadata": {},
   "outputs": [],
   "source": [
    "tokenizer = get_tokenizer()"
   ]
  },
  {
   "cell_type": "markdown",
   "metadata": {},
   "source": [
    "# Initialize Model"
   ]
  },
  {
   "cell_type": "code",
   "execution_count": 4,
   "metadata": {},
   "outputs": [],
   "source": [
    "\n",
    "embedding_dimension = 512\n",
    "max_sequence_length = 2048\n",
    "number_of_tokens = tokenizer.get_vocab_size()\n",
    "batch_size = 1\n",
    "data_gen_config_path = config['checkpoint_path']\n",
    "checkpoint_files = os.listdir(config['checkpoint_path'])\n",
    "data_gen_config_path = config['checkpoint_path']\n",
    "model_checkpoint_path = None\n",
    "for file in checkpoint_files:\n",
    "    if file.find(\".pt\") > -1:\n",
    "        model_checkpoint_path = config['checkpoint_path']+file\n",
    "\n",
    "# Create the model\n",
    "model = LLMModel(LLMLayer(\n",
    "    embedding_dimension=embedding_dimension,\n",
    "    number_of_tokens=number_of_tokens,\n",
    "    number_of_heads=4,\n",
    "    number_of_layers=64,\n",
    "    decoder_stacks=2,\n",
    "    dropout_rate=0.1,\n",
    "    max_sequence_length=max_sequence_length,\n",
    "    feed_forward_dimension=4*embedding_dimension,\n",
    "    training = True\n",
    "))\n",
    "\n",
    "optimizer = torch.optim.Adam(model.parameters(), lr=0.0001)\n"
   ]
  },
  {
   "cell_type": "markdown",
   "metadata": {},
   "source": [
    "# Initialize the Data Generator"
   ]
  },
  {
   "cell_type": "code",
   "execution_count": 5,
   "metadata": {},
   "outputs": [],
   "source": [
    "if data_gen_config_path:\n",
    "    if os.path.exists(os.path.join(data_gen_config_path,config['data_genrerator_config_name'])):\n",
    "        training_data_generator = TrainingDataGen(config_path=data_gen_config_path)\n",
    "    else:\n",
    "        training_data_generator = TrainingDataGen(base_path=config['data_path'])\n",
    "else:\n",
    "    training_data_generator = TrainingDataGen(base_path=config['data_path'])"
   ]
  },
  {
   "cell_type": "markdown",
   "metadata": {},
   "source": [
    "# Calculate Model Parameters"
   ]
  },
  {
   "cell_type": "code",
   "execution_count": 6,
   "metadata": {},
   "outputs": [
    {
     "name": "stdout",
     "output_type": "stream",
     "text": [
      "0.455855536\n"
     ]
    }
   ],
   "source": [
    "trainable_params = sum(p.numel() for p in model.parameters() if p.requires_grad)\n",
    "print(int(trainable_params)/pow(10,9))"
   ]
  },
  {
   "cell_type": "markdown",
   "metadata": {},
   "source": [
    "# Start Training"
   ]
  },
  {
   "cell_type": "code",
   "execution_count": 7,
   "metadata": {},
   "outputs": [
    {
     "name": "stderr",
     "output_type": "stream",
     "text": [
      "\r  0%|          | 0/100 [18:39<?, ?it/s]"
     ]
    },
    {
     "name": "stdout",
     "output_type": "stream",
     "text": [
      "Current File:  d:/Data/books/0.txt\n",
      "Step 2781 Input Tensor: [' the market.\\n** 3.** My last few books have been narrowly focused on sharing with you the marketing strategies and tactics that work, and documenting the growth and development of social media. This book will also cover all the most up- to- date information on platforms and tech, and how to create native content that gets people\\'s attention. But it will go broader and deeper as well, revealing what I\\'ve learned not just in my role as entrepreneur and marketer, but as a leader, manager, and family man. I hope this book will offer a perfect blend of motivation, inspiration, data, strategy, and executable information.\\n** 4.** We\\'ve also included many brand- new questions and answers pulled from fans across our channels as well as from our own employees. So you\\'ll find some familiar stuff in this book, and a lot that is new. Some questions have been consolidated or rephrased for clarity. Some are short and simple and silly, but I wanted to capture some of the fun we have on the show! All the topics are timeless, however, and you\\'ll find that even the most specific answers can frequently be adapted in all kinds of ways for almost every industry, service, and product. Now, you might be wondering if that\\'s a good thing. What could someone else\\'s question about optimizing social for the elevator industry, or the future value of Instagram, or Disney\\'s billion- dollar MagicBand possibly have to do with you?\\n** 5.** Everything. Because a discussion of Disney\\'s MagicBand leads to a debate over the future of wearable tech, which leads to Amazon\\'s Dash Button, which makes it possible to reorder consumable products literally at the touch of a button adhered to household items. Imagine, just as you pour the last drop of detergent into the laundry reservoir, you can lean over and tap the detergent button affixed to your washing machine, and just like that, a new container is ordered and on its way. It doesn\\'t take a genius to see how that development might impact every single business on the planet. And if you read my answers to the questions about making great content for the elevator industry, how musicians can make a better living, or why Instagram is going to be worth a bazillion dollars soon, you\\'ll see that that information has everything to do with you, too.\\n\\n My hope is that after you read this you\\'ll feel empowered and armed with a deeper understanding of the current business environment, including the ins and outs; the black, the white, and the gray; the IQ and the EQ; the details and the big picture surrounding everything it takes to be a successful entrepreneur, executive, CEO, and manager. I\\'ve been spending a ton of hours on Instagram, Facebook, Pinterest, Snapchat, Meerkat, Periscope, LinkedIn, and many other platforms, and from this man\\'s point of view we are living in an unbelievably interesting time. I haven\\'t felt this sense of disruption since 2006–2007, when Facebook and Twitter started to eat away at Friendster and MySpace. The stakes and the opportunities are high, and the next thirty- six months of hustle might just pay off more than usual for those people willing to put in the time and effort. See, many people are only just settling into Facebook or Twitter, not realizing that the world has already embraced other opportunities as well. The advantage is yours if you want it.\\n\\n And now, let\\'s get on with the book\\n\\n\\n ## CHAPTER 1: CLOUDS AND DIRT\\n\\n*** IN THIS CHAPTER I TALK ABOUT PRIORITIZING, THE OXYGEN OF YOUR BUSINESS, AND WHY THE MIDDLE SUCKS.***\\n\\n I spend all my time in the clouds and the dirt. The clouds are the high- end philosophy and beliefs that are at the heart of everything I am personally and everything I do professionally. Personally, it\\'s really simple: family first. Nothing else really matters.\\n\\n Professionally, it\\'s not much different. That\\'s what I often tell my staff at VaynerMedia—99 percent of what we deal with every day in business doesn\\'t matter. This usually gets me a mix of confused, curious, and even disdainful looks from my new top execs or employees hearing it for the first time because of course they think that to do their job well, _ everything_ has to matter. But it\\'s just not true. If you religiously follow just the few core business philosophies that mean the most to you, and spend all your time there, everything else will naturally fall into place. My clouds are extremely simple, and might sound familiar to anyone who has been following me for a while:\\n** 1.** Bring value to the customer.\\n** 2.** Provide 51 percent of the value in a relationship, whether it\\'s with an employee, a client, or a stranger.\\n** 3.** Always play the long game of lifetime value.\\n** 4.** Smart work will never replace hard work; it only supplements it.\\n** 5.** People are your most important commodity.\\n** 6.** Patience matters.\\n** 7.** Never be romantic about how you make your money.\\n** 8.** Try to put yourself out of business daily.\\n These are my commandments.\\n\\n So you see, the clouds don\\'t just represent the big picture; they represent the huge picture, the everything. They are not goals. Goals can be achieved and set aside or moved. I\\'m Going to Buy the Jets is a goal. It drives me, too, but it\\'s not at the core of how I run my businesses.\\n\\n The dirt is about being a practitioner and executing toward those clouds. It\\'s the hard work. On a personal level, my dirt is making sure I communicate well with my loved ones, that I show up and stay present, that I apologize when I mess up and that I make sure it doesn\\'t happen too often. You know, the stuff of being a good spouse, parent, son, sibling, and friend. Professionally, it\\'s knowing my craft. It\\'s knowing there is a fifteen- person limit to an Instagram chat and that infographics overindex on Pinterest. It\\'s understanding Facebook ads and the ROI of Vine. It\\'s noticing changes and trends and figuring out how to take advantage of them before anybody else.\\n\\n The vast majority of people tend to play to the middle, which is why they usually only succeed up to a certain level and then plateau. Alternatively, they get stuck in one or the other, getting so bogged down by minutiae or politics they lose sight of the clouds, or so into the clouds they lose the appetite or neglect the skills they need to execute successfully. Ideas are worthless without the execution; execution is pointless without the ideas. You have to learn to prioritize properly and quickly identify what\\'s going to move you further ahead and what\\'s going to make you stall.\\n\\n I saw how these tendencies played out early in my career in the wine industry. I encountered a lot of amazing wine people with brilliant palates whose businesses stunk because they weren\\'t good at that part. Conversely, I\\'d meet with some of the best wine retailers in the country and be shocked to find that their actual knowledge about wine was incredibly limited. A great wine merchant has to be a businessperson first and a wine person second, for sure, but that second part really did matter. I always thought the reason the success of my family wine business, Wine Library, accelerated so quickly once I got involved was that I took both seriously. I knew my business, but I also knew my craft, and that practitionership—loving wine, tasting as many as I could, and caring about the regions and producers—created tremendous value for my customers and ridiculous ROI for me.\\n\\n I see a similar phenomenon in today\\'s marketing world. At this point in my career I have sat down hundreds of times to meet with people claiming to be social media experts, only to discover they have gaping holes in their knowledge about the platforms and little idea of how they have changed over time. This is why I feel justified telling potential clients that if they work with me, they\\'ll be working with the best social media practitioner at the best social agency in the country. Because at VaynerMedia, the clouds matter, and the dirt matters, and nothing else.\\n\\n There are too many people who are average at what they do, and then confused by their average results. Everyone has their own definition of clouds and dirt, but if there\\'s any advice I can offer you that will change the entire trajectory of your career, _ it\\'s to start pushing on both edges_ . Raise the bar on your business philosophy, dig deeper into your craft. You want to be an equally good architect as you are a mason. You\\'ve got to be able to simultaneously think at a high level and get your hands dirty.\\n\\n Can you elaborate on what the middle is and why it sucks?\\n To be in the middle is to be like everybody else. It\\'s a start- up that pitches me by saying: \"We\\'re going to do something in the photo app space.\" You mean like everybody has been doing for the past five years? It\\'s commodity work. It\\'s not influential and it\\'s not special. It\\'s safe.\\n\\n On any given day, I sit through four or more pitches. And the pitch I usually end up liking? The one where the players are actually doing the work. They\\'re in the trenches. They\\'re not just doing the big holistic thinking or the higher- level branding; they\\'re just at a raw level, executing. They\\'re engaging like mad and experimenting on platforms and trying things that risk getting them ridiculed in the trades. There really aren\\'t that many people who are hard practitioners like that. There also aren\\'t that many people']\n",
      "\n",
      "\n",
      "Step 2781 Target Tensor: [' market.\\n** 3.** My last few books have been narrowly focused on sharing with you the marketing strategies and tactics that work, and documenting the growth and development of social media. This book will also cover all the most up- to- date information on platforms and tech, and how to create native content that gets people\\'s attention. But it will go broader and deeper as well, revealing what I\\'ve learned not just in my role as entrepreneur and marketer, but as a leader, manager, and family man. I hope this book will offer a perfect blend of motivation, inspiration, data, strategy, and executable information.\\n** 4.** We\\'ve also included many brand- new questions and answers pulled from fans across our channels as well as from our own employees. So you\\'ll find some familiar stuff in this book, and a lot that is new. Some questions have been consolidated or rephrased for clarity. Some are short and simple and silly, but I wanted to capture some of the fun we have on the show! All the topics are timeless, however, and you\\'ll find that even the most specific answers can frequently be adapted in all kinds of ways for almost every industry, service, and product. Now, you might be wondering if that\\'s a good thing. What could someone else\\'s question about optimizing social for the elevator industry, or the future value of Instagram, or Disney\\'s billion- dollar MagicBand possibly have to do with you?\\n** 5.** Everything. Because a discussion of Disney\\'s MagicBand leads to a debate over the future of wearable tech, which leads to Amazon\\'s Dash Button, which makes it possible to reorder consumable products literally at the touch of a button adhered to household items. Imagine, just as you pour the last drop of detergent into the laundry reservoir, you can lean over and tap the detergent button affixed to your washing machine, and just like that, a new container is ordered and on its way. It doesn\\'t take a genius to see how that development might impact every single business on the planet. And if you read my answers to the questions about making great content for the elevator industry, how musicians can make a better living, or why Instagram is going to be worth a bazillion dollars soon, you\\'ll see that that information has everything to do with you, too.\\n\\n My hope is that after you read this you\\'ll feel empowered and armed with a deeper understanding of the current business environment, including the ins and outs; the black, the white, and the gray; the IQ and the EQ; the details and the big picture surrounding everything it takes to be a successful entrepreneur, executive, CEO, and manager. I\\'ve been spending a ton of hours on Instagram, Facebook, Pinterest, Snapchat, Meerkat, Periscope, LinkedIn, and many other platforms, and from this man\\'s point of view we are living in an unbelievably interesting time. I haven\\'t felt this sense of disruption since 2006–2007, when Facebook and Twitter started to eat away at Friendster and MySpace. The stakes and the opportunities are high, and the next thirty- six months of hustle might just pay off more than usual for those people willing to put in the time and effort. See, many people are only just settling into Facebook or Twitter, not realizing that the world has already embraced other opportunities as well. The advantage is yours if you want it.\\n\\n And now, let\\'s get on with the book\\n\\n\\n ## CHAPTER 1: CLOUDS AND DIRT\\n\\n*** IN THIS CHAPTER I TALK ABOUT PRIORITIZING, THE OXYGEN OF YOUR BUSINESS, AND WHY THE MIDDLE SUCKS.***\\n\\n I spend all my time in the clouds and the dirt. The clouds are the high- end philosophy and beliefs that are at the heart of everything I am personally and everything I do professionally. Personally, it\\'s really simple: family first. Nothing else really matters.\\n\\n Professionally, it\\'s not much different. That\\'s what I often tell my staff at VaynerMedia—99 percent of what we deal with every day in business doesn\\'t matter. This usually gets me a mix of confused, curious, and even disdainful looks from my new top execs or employees hearing it for the first time because of course they think that to do their job well, _ everything_ has to matter. But it\\'s just not true. If you religiously follow just the few core business philosophies that mean the most to you, and spend all your time there, everything else will naturally fall into place. My clouds are extremely simple, and might sound familiar to anyone who has been following me for a while:\\n** 1.** Bring value to the customer.\\n** 2.** Provide 51 percent of the value in a relationship, whether it\\'s with an employee, a client, or a stranger.\\n** 3.** Always play the long game of lifetime value.\\n** 4.** Smart work will never replace hard work; it only supplements it.\\n** 5.** People are your most important commodity.\\n** 6.** Patience matters.\\n** 7.** Never be romantic about how you make your money.\\n** 8.** Try to put yourself out of business daily.\\n These are my commandments.\\n\\n So you see, the clouds don\\'t just represent the big picture; they represent the huge picture, the everything. They are not goals. Goals can be achieved and set aside or moved. I\\'m Going to Buy the Jets is a goal. It drives me, too, but it\\'s not at the core of how I run my businesses.\\n\\n The dirt is about being a practitioner and executing toward those clouds. It\\'s the hard work. On a personal level, my dirt is making sure I communicate well with my loved ones, that I show up and stay present, that I apologize when I mess up and that I make sure it doesn\\'t happen too often. You know, the stuff of being a good spouse, parent, son, sibling, and friend. Professionally, it\\'s knowing my craft. It\\'s knowing there is a fifteen- person limit to an Instagram chat and that infographics overindex on Pinterest. It\\'s understanding Facebook ads and the ROI of Vine. It\\'s noticing changes and trends and figuring out how to take advantage of them before anybody else.\\n\\n The vast majority of people tend to play to the middle, which is why they usually only succeed up to a certain level and then plateau. Alternatively, they get stuck in one or the other, getting so bogged down by minutiae or politics they lose sight of the clouds, or so into the clouds they lose the appetite or neglect the skills they need to execute successfully. Ideas are worthless without the execution; execution is pointless without the ideas. You have to learn to prioritize properly and quickly identify what\\'s going to move you further ahead and what\\'s going to make you stall.\\n\\n I saw how these tendencies played out early in my career in the wine industry. I encountered a lot of amazing wine people with brilliant palates whose businesses stunk because they weren\\'t good at that part. Conversely, I\\'d meet with some of the best wine retailers in the country and be shocked to find that their actual knowledge about wine was incredibly limited. A great wine merchant has to be a businessperson first and a wine person second, for sure, but that second part really did matter. I always thought the reason the success of my family wine business, Wine Library, accelerated so quickly once I got involved was that I took both seriously. I knew my business, but I also knew my craft, and that practitionership—loving wine, tasting as many as I could, and caring about the regions and producers—created tremendous value for my customers and ridiculous ROI for me.\\n\\n I see a similar phenomenon in today\\'s marketing world. At this point in my career I have sat down hundreds of times to meet with people claiming to be social media experts, only to discover they have gaping holes in their knowledge about the platforms and little idea of how they have changed over time. This is why I feel justified telling potential clients that if they work with me, they\\'ll be working with the best social media practitioner at the best social agency in the country. Because at VaynerMedia, the clouds matter, and the dirt matters, and nothing else.\\n\\n There are too many people who are average at what they do, and then confused by their average results. Everyone has their own definition of clouds and dirt, but if there\\'s any advice I can offer you that will change the entire trajectory of your career, _ it\\'s to start pushing on both edges_ . Raise the bar on your business philosophy, dig deeper into your craft. You want to be an equally good architect as you are a mason. You\\'ve got to be able to simultaneously think at a high level and get your hands dirty.\\n\\n Can you elaborate on what the middle is and why it sucks?\\n To be in the middle is to be like everybody else. It\\'s a start- up that pitches me by saying: \"We\\'re going to do something in the photo app space.\" You mean like everybody has been doing for the past five years? It\\'s commodity work. It\\'s not influential and it\\'s not special. It\\'s safe.\\n\\n On any given day, I sit through four or more pitches. And the pitch I usually end up liking? The one where the players are actually doing the work. They\\'re in the trenches. They\\'re not just doing the big holistic thinking or the higher- level branding; they\\'re just at a raw level, executing. They\\'re engaging like mad and experimenting on platforms and trying things that risk getting them ridiculed in the trades. There really aren\\'t that many people who are hard practitioners like that. There also aren\\'t that many people who']\n"
     ]
    }
   ],
   "source": [
    "trainer = Trainer(model,training_data_generator, tokenizer, optimizer, max_sequence_length, model_checkpoint_path, batch_size)\n",
    "trainer.train(epochs=100, batch_size=batch_size)"
   ]
  }
 ],
 "metadata": {
  "kernelspec": {
   "display_name": "base",
   "language": "python",
   "name": "python3"
  },
  "language_info": {
   "codemirror_mode": {
    "name": "ipython",
    "version": 3
   },
   "file_extension": ".py",
   "mimetype": "text/x-python",
   "name": "python",
   "nbconvert_exporter": "python",
   "pygments_lexer": "ipython3",
   "version": "3.8.17"
  },
  "orig_nbformat": 4
 },
 "nbformat": 4,
 "nbformat_minor": 2
}
