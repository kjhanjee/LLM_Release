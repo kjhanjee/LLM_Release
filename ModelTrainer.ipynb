{
 "cells": [
  {
   "cell_type": "markdown",
   "metadata": {},
   "source": [
    "# Import Required Modules"
   ]
  },
  {
   "cell_type": "code",
   "execution_count": 1,
   "metadata": {},
   "outputs": [],
   "source": [
    "import torch\n",
    "import os\n",
    "from model.LLMModel import LLMModel\n",
    "from model.LLMLayer import LLMLayer\n",
    "from utils.tokenizer import get_tokenizer\n",
    "from utils.training_data_generator import TrainingDataGen\n",
    "from utils.trainer import Trainer\n",
    "from utils.read_config import get_config"
   ]
  },
  {
   "cell_type": "code",
   "execution_count": 2,
   "metadata": {},
   "outputs": [],
   "source": [
    "config = get_config()"
   ]
  },
  {
   "cell_type": "markdown",
   "metadata": {},
   "source": [
    "# Create Tokenizer object"
   ]
  },
  {
   "cell_type": "code",
   "execution_count": 3,
   "metadata": {},
   "outputs": [],
   "source": [
    "tokenizer = get_tokenizer()"
   ]
  },
  {
   "cell_type": "markdown",
   "metadata": {},
   "source": [
    "# Initialize Model"
   ]
  },
  {
   "cell_type": "code",
   "execution_count": 4,
   "metadata": {},
   "outputs": [],
   "source": [
    "\n",
    "embedding_dimension = 512\n",
    "max_sequence_length = 2048\n",
    "number_of_tokens = tokenizer.get_vocab_size()\n",
    "batch_size = 1\n",
    "data_gen_config_path = config['checkpoint_path']\n",
    "checkpoint_files = os.listdir(config['checkpoint_path'])\n",
    "data_gen_config_path = config['checkpoint_path']\n",
    "model_checkpoint_path = None\n",
    "for file in checkpoint_files:\n",
    "    if file.find(\".pt\") > -1:\n",
    "        model_checkpoint_path = config['checkpoint_path']+file\n",
    "\n",
    "# Create the model\n",
    "model = LLMModel(LLMLayer(\n",
    "    embedding_dimension=embedding_dimension,\n",
    "    number_of_tokens=number_of_tokens,\n",
    "    number_of_heads=4,\n",
    "    number_of_layers=32,\n",
    "    decoder_stacks=2,\n",
    "    dropout_rate=0.1,\n",
    "    max_sequence_length=max_sequence_length,\n",
    "    feed_forward_dimension=4*embedding_dimension,\n",
    "    training = True\n",
    "))\n",
    "\n",
    "optimizer = torch.optim.Adam(model.parameters(), lr=0.0001)\n"
   ]
  },
  {
   "cell_type": "markdown",
   "metadata": {},
   "source": [
    "# Initialize the Data Generator"
   ]
  },
  {
   "cell_type": "code",
   "execution_count": 5,
   "metadata": {},
   "outputs": [],
   "source": [
    "if data_gen_config_path:\n",
    "    if os.path.exists(os.path.join(data_gen_config_path,config['data_genrerator_config_name'])):\n",
    "        training_data_generator = TrainingDataGen(config_path=data_gen_config_path)\n",
    "    else:\n",
    "        training_data_generator = TrainingDataGen(base_path=config['data_path'])\n",
    "else:\n",
    "    training_data_generator = TrainingDataGen(base_path=config['data_path'])"
   ]
  },
  {
   "cell_type": "markdown",
   "metadata": {},
   "source": [
    "# Calculate Model Parameters"
   ]
  },
  {
   "cell_type": "code",
   "execution_count": 6,
   "metadata": {},
   "outputs": [
    {
     "name": "stdout",
     "output_type": "stream",
     "text": [
      "0.55736568\n"
     ]
    }
   ],
   "source": [
    "trainable_params = sum(p.numel() for p in model.parameters() if p.requires_grad)\n",
    "print(int(trainable_params)/pow(10,9))"
   ]
  },
  {
   "cell_type": "markdown",
   "metadata": {},
   "source": [
    "# Start Training"
   ]
  },
  {
   "cell_type": "code",
   "execution_count": 7,
   "metadata": {},
   "outputs": [
    {
     "name": "stderr",
     "output_type": "stream",
     "text": [
      "\r  0%|          | 0/100 [28:32<?, ?it/s]"
     ]
    },
    {
     "name": "stdout",
     "output_type": "stream",
     "text": [
      "Current File:  d:/Data/books/0.txt\n",
      "Step 55 Input Tensor: [' parents, Tamara and Sasha; my sister, Liz, and her wonderful husband, Justin, and their kids, Hannah and Max; my brother, AJ, and his wife, Ali; my grandma Esther, my fantastic brother- in- law, Alex, and his wife, Sandy, and their kids, Zach and Dylan; and my mother- and father- in- law, Anne and Peter Klein. A huge thank- you to my team, aka the Dope Den: Steve Unwin, Zak Moy, David Rock, India Kieser, Alex De Simone, Andy Krainak, Andrew Greif, Staphon Lawrence, Brittany Hoffman, Siddarth Astir, and Rebecca Wright. My gratitude also goes out to the whole team at HarperBusiness. And especially to Hollis Heimbouch, who says this is the best book I\\'ve written. Thank you for your consistent support and allowing me to roll the way I need to. Finally, thanks again to my writer, Stephanie Land, who beside my brother and dad has been my closest partner in business. I can\\'t believe this is book number four!\\n\\n\\n ## INTRODUCTION\\n\\n On February 21, 2006, on a YouTube channel with zero followers, the world\\'s first wine video blog launched. Without fanfare, it opened on a guy in a blue sweater—maybe it was black, the bad lighting made it hard to tell—seated in front of a blank beige wall. On the table in front of him rested three wine bottles and a small, dark bucket that looked like it might have once held a potted plant. His skin was sallow in the sickly fluorescent light that barely illuminated his face, but he had a wide, optimistic smile. Looking straight into the Flip cam, he announced himself to his nonexistent audience in a subdued, serious, but friendly voice: \"Hello, everybody, and welcome to the very first episode of _ Wine Library TV_ . I\\'m Gary Vaynerchuk.\" The echo was so intense he might have been filming inside a cave.\\n\\n Over time the show got more dynamic and exciting. The host started to let his huge personality shine. He wore Jets shirts. He paired wines with Lucky Charms and described flavor profiles in colorful, colloquial language, like grape- flavored Nerd candy and dead deer mixed with cherries. He filmed another 999 episodes before announcing on March 14, 2011, that the show was over. Well, not quite over. On that same day he launched _ Daily Grape_ , a kind of _ Wine Library TV 2.0_ for the mobile era. That lasted eighty- nine episodes. And then he realized he really was done. He loved wine but he was an entrepreneur first, and there were just too many other things to do.\\n\\n That character was me, of course. At the time I really did think I was done with daily video blogging forever. I could imagine the occasional interview or one- off video ( have you ever seen my \"Monday Morning Motivational\" spot?) , but a full show was too much. There was only one thing I didn\\'t count on: you, Vayner Nation. I missed you! I missed talking to you every day. I mean, sure I could talk to you anytime I wanted to on Twitter, Instagram, or Facebook, but video elicits a different energy and encourages a spontaneity and vibrancy that can\\'t be replicated on any other platform. I should have known that something was missing in my world when I realized that during every forty- five- minute speaking engagement the part I most looked forward to was the last fifteen minutes of Q& A. In fact, at one point I seriously considered making my whole presentation nothing but Q& A forever.\\n\\n Meanwhile, the emails kept pouring in. Despite access to three books and hundreds of videos, people still had questions about how to successfully use social media—the new platforms and the old standbys—to build their brands, or how to market with native content, or even just how I do what I do. There was so much content I wanted to put out to help them, but with all my other obligations at VaynerMedia and elsewhere I just couldn\\'t get to it.\\n\\n Then DRock emailed me. DRock is David Rock, and he wanted to make a short film about me. The story of what he did to convince me to agree shows up somewhere later in this book, and it\\'s a good one—a classic example of how to get yourself to the next professional level. He followed me around for a day and produced a gorgeous short film that perfectly encapsulates my entire philosophy about business and entrepreneurship. It\\'s called \"Clouds and Dirt.\" I enjoyed working with DRock so much I hired him to create videos for me full- time.\\n\\n Then I looked around and saw that by bringing him on board I had accidentally formed the perfect content creation team—David for video, Steve Unwin for copy ( a job eventually shared with India Kieser) , and Zak Moy for design. On a whim, I pulled them aside and announced that I wanted to film a video, and they were going to help me.\\n\\n And that\\'s how on July 31, 2014, on a YouTube channel with 30,000 subscribers, one of the world\\'s first business Q& A video blogs was launched. It opened on a guy in a blue- striped golf shirt smiling into the camera: \"Hello, everyone, and welcome to the first _ AskGaryVee_ .\" Though the first episode started off almost as low- key as its wine- themed predecessors, by the second, the light and sound quality were professional grade and the host was bringing hard energy and straight thunder. He started posing weird random objects, Jets paraphernalia, and eighties collectible toys on the sleek blond wood table in front of him as he answered his viewers\\' questions about social media, marketing, branding, and more. Subscriptions to the channel and eventually to the accompanying podcast ballooned as viewers kept asking questions, and he kept answering them.\\n\\n At first I thought the show might be an every- now- and- then thing, but it was like riding a bike—as soon as I filmed the first episode, I wanted to do more. And so we did ( DRock, Steve, and Zak didn\\'t know what hit them) . It\\'s a challenge, of course. The world is much more mobile and much smarter than it was in 2006, when I started _ WLTV_ , and there is a lot more competition for eyeballs even than in 2011, when we finished _ Daily Grape_ . Which means I have to be even better. And I think I am, because I\\'m speaking from five more years of experience. That\\'s five more years of watching new technologies rise and fall, experimenting with platforms, advising clients, and talking to people about their dreams and goals.\\n\\n That\\'s one of the things I love best about The _ AskGaryVee_ Show. It\\'s not a platform from which I talk about things that are important to me; it\\'s a place where I talk about things that are important to you. You, the viewers, entrepreneurs, executives, and dreamers are the inspiration for the show just as the wines were the inspiration for _ WLTV_ and _ Daily Grape_ . And just as I could never run out of new wines to taste, there will never be a day when there\\'s nothing new to say about the state of business. It\\'s a constantly evolving and growing topic.\\n\\n The other thing I love about this show is that in the end, I really did figure out a way to extend my favorite part of my keynote speeches. If you\\'ve never seen me onstage, I model my performance after the comedians I idolized in my youth, like Eddie Murphy, Chris Rock, and Richard Pryor. My presentations are salty and brash, but even as they shock they tend to make people laugh. Hopefully, they also make people think. I like the Q& A part best because that\\'s the moment when people realize that I\\'m not a clever speaker with a few good ideas, but a devout practitioner with endless ideas. I can literally see the skeptics\\' expressions switch from cynicism to admiration and respect as they realize that they can ask me anything—anything!—and I won\\'t dodge and I won\\'t rehash and I will do my absolute best to give them detailed, tactical answers they can start using right away.\\n\\n The _ AskGaryVee_ Show allows me to do that for people every day. I love the community that has developed around it. I love that it has become an integral part of my life. I love that it has introduced a new cast of VaynerMedia characters to the world. And I love that together our little team has created the apex of modern marketing—an ultimate jab- and- content distributor.\\n\\n While the vast majority of questions lobbed at me have to do with launching start- ups, building personal brands, leveraging social media, and deconstructing platforms, I also get asked about leadership, hiring and firing, public speaking, and the perks and perils of mixing family and business. Also the Jets. And parenting in the digital era. And my thoughts on the value of traditional education. And my biggest mistakes. I tell it as I see it, with the benefit of a broader perspective than I had even just a few years ago. I\\'ve always known what it takes to succeed in the trenches, but now with the hands- on experience of growing two businesses, one from scratch, I also know what the aerial view looks like, and what works best when you\\'re responsible for creating culture, developing careers, and managing clients in a company that seems to double in size by the day.\\n\\n I\\'ve been stunned at people\\'s appetite for this content, especially the Millennials. We\\'re increasingly reaching a young audience. It reaffirms my belief that there are gaping holes in the educational system, and entrepreneurs and innovators tend to']\n",
      "\n",
      "\n",
      "Step 55 Target Tensor: [', Tamara and Sasha; my sister, Liz, and her wonderful husband, Justin, and their kids, Hannah and Max; my brother, AJ, and his wife, Ali; my grandma Esther, my fantastic brother- in- law, Alex, and his wife, Sandy, and their kids, Zach and Dylan; and my mother- and father- in- law, Anne and Peter Klein. A huge thank- you to my team, aka the Dope Den: Steve Unwin, Zak Moy, David Rock, India Kieser, Alex De Simone, Andy Krainak, Andrew Greif, Staphon Lawrence, Brittany Hoffman, Siddarth Astir, and Rebecca Wright. My gratitude also goes out to the whole team at HarperBusiness. And especially to Hollis Heimbouch, who says this is the best book I\\'ve written. Thank you for your consistent support and allowing me to roll the way I need to. Finally, thanks again to my writer, Stephanie Land, who beside my brother and dad has been my closest partner in business. I can\\'t believe this is book number four!\\n\\n\\n ## INTRODUCTION\\n\\n On February 21, 2006, on a YouTube channel with zero followers, the world\\'s first wine video blog launched. Without fanfare, it opened on a guy in a blue sweater—maybe it was black, the bad lighting made it hard to tell—seated in front of a blank beige wall. On the table in front of him rested three wine bottles and a small, dark bucket that looked like it might have once held a potted plant. His skin was sallow in the sickly fluorescent light that barely illuminated his face, but he had a wide, optimistic smile. Looking straight into the Flip cam, he announced himself to his nonexistent audience in a subdued, serious, but friendly voice: \"Hello, everybody, and welcome to the very first episode of _ Wine Library TV_ . I\\'m Gary Vaynerchuk.\" The echo was so intense he might have been filming inside a cave.\\n\\n Over time the show got more dynamic and exciting. The host started to let his huge personality shine. He wore Jets shirts. He paired wines with Lucky Charms and described flavor profiles in colorful, colloquial language, like grape- flavored Nerd candy and dead deer mixed with cherries. He filmed another 999 episodes before announcing on March 14, 2011, that the show was over. Well, not quite over. On that same day he launched _ Daily Grape_ , a kind of _ Wine Library TV 2.0_ for the mobile era. That lasted eighty- nine episodes. And then he realized he really was done. He loved wine but he was an entrepreneur first, and there were just too many other things to do.\\n\\n That character was me, of course. At the time I really did think I was done with daily video blogging forever. I could imagine the occasional interview or one- off video ( have you ever seen my \"Monday Morning Motivational\" spot?) , but a full show was too much. There was only one thing I didn\\'t count on: you, Vayner Nation. I missed you! I missed talking to you every day. I mean, sure I could talk to you anytime I wanted to on Twitter, Instagram, or Facebook, but video elicits a different energy and encourages a spontaneity and vibrancy that can\\'t be replicated on any other platform. I should have known that something was missing in my world when I realized that during every forty- five- minute speaking engagement the part I most looked forward to was the last fifteen minutes of Q& A. In fact, at one point I seriously considered making my whole presentation nothing but Q& A forever.\\n\\n Meanwhile, the emails kept pouring in. Despite access to three books and hundreds of videos, people still had questions about how to successfully use social media—the new platforms and the old standbys—to build their brands, or how to market with native content, or even just how I do what I do. There was so much content I wanted to put out to help them, but with all my other obligations at VaynerMedia and elsewhere I just couldn\\'t get to it.\\n\\n Then DRock emailed me. DRock is David Rock, and he wanted to make a short film about me. The story of what he did to convince me to agree shows up somewhere later in this book, and it\\'s a good one—a classic example of how to get yourself to the next professional level. He followed me around for a day and produced a gorgeous short film that perfectly encapsulates my entire philosophy about business and entrepreneurship. It\\'s called \"Clouds and Dirt.\" I enjoyed working with DRock so much I hired him to create videos for me full- time.\\n\\n Then I looked around and saw that by bringing him on board I had accidentally formed the perfect content creation team—David for video, Steve Unwin for copy ( a job eventually shared with India Kieser) , and Zak Moy for design. On a whim, I pulled them aside and announced that I wanted to film a video, and they were going to help me.\\n\\n And that\\'s how on July 31, 2014, on a YouTube channel with 30,000 subscribers, one of the world\\'s first business Q& A video blogs was launched. It opened on a guy in a blue- striped golf shirt smiling into the camera: \"Hello, everyone, and welcome to the first _ AskGaryVee_ .\" Though the first episode started off almost as low- key as its wine- themed predecessors, by the second, the light and sound quality were professional grade and the host was bringing hard energy and straight thunder. He started posing weird random objects, Jets paraphernalia, and eighties collectible toys on the sleek blond wood table in front of him as he answered his viewers\\' questions about social media, marketing, branding, and more. Subscriptions to the channel and eventually to the accompanying podcast ballooned as viewers kept asking questions, and he kept answering them.\\n\\n At first I thought the show might be an every- now- and- then thing, but it was like riding a bike—as soon as I filmed the first episode, I wanted to do more. And so we did ( DRock, Steve, and Zak didn\\'t know what hit them) . It\\'s a challenge, of course. The world is much more mobile and much smarter than it was in 2006, when I started _ WLTV_ , and there is a lot more competition for eyeballs even than in 2011, when we finished _ Daily Grape_ . Which means I have to be even better. And I think I am, because I\\'m speaking from five more years of experience. That\\'s five more years of watching new technologies rise and fall, experimenting with platforms, advising clients, and talking to people about their dreams and goals.\\n\\n That\\'s one of the things I love best about The _ AskGaryVee_ Show. It\\'s not a platform from which I talk about things that are important to me; it\\'s a place where I talk about things that are important to you. You, the viewers, entrepreneurs, executives, and dreamers are the inspiration for the show just as the wines were the inspiration for _ WLTV_ and _ Daily Grape_ . And just as I could never run out of new wines to taste, there will never be a day when there\\'s nothing new to say about the state of business. It\\'s a constantly evolving and growing topic.\\n\\n The other thing I love about this show is that in the end, I really did figure out a way to extend my favorite part of my keynote speeches. If you\\'ve never seen me onstage, I model my performance after the comedians I idolized in my youth, like Eddie Murphy, Chris Rock, and Richard Pryor. My presentations are salty and brash, but even as they shock they tend to make people laugh. Hopefully, they also make people think. I like the Q& A part best because that\\'s the moment when people realize that I\\'m not a clever speaker with a few good ideas, but a devout practitioner with endless ideas. I can literally see the skeptics\\' expressions switch from cynicism to admiration and respect as they realize that they can ask me anything—anything!—and I won\\'t dodge and I won\\'t rehash and I will do my absolute best to give them detailed, tactical answers they can start using right away.\\n\\n The _ AskGaryVee_ Show allows me to do that for people every day. I love the community that has developed around it. I love that it has become an integral part of my life. I love that it has introduced a new cast of VaynerMedia characters to the world. And I love that together our little team has created the apex of modern marketing—an ultimate jab- and- content distributor.\\n\\n While the vast majority of questions lobbed at me have to do with launching start- ups, building personal brands, leveraging social media, and deconstructing platforms, I also get asked about leadership, hiring and firing, public speaking, and the perks and perils of mixing family and business. Also the Jets. And parenting in the digital era. And my thoughts on the value of traditional education. And my biggest mistakes. I tell it as I see it, with the benefit of a broader perspective than I had even just a few years ago. I\\'ve always known what it takes to succeed in the trenches, but now with the hands- on experience of growing two businesses, one from scratch, I also know what the aerial view looks like, and what works best when you\\'re responsible for creating culture, developing careers, and managing clients in a company that seems to double in size by the day.\\n\\n I\\'ve been stunned at people\\'s appetite for this content, especially the Millennials. We\\'re increasingly reaching a young audience. It reaffirms my belief that there are gaping holes in the educational system, and entrepreneurs and innovators tend to fall']\n",
      "\n",
      "\n",
      "Step 55 Loss:  0.3373279273509979\n",
      "\n",
      "\n",
      "Step 55 Output: [', and and Sasha; my parents, Tamara, Tamara Sasha wonderful husband, Liz, and her kids, and and their; my sister- and, and his wife, Hannah; my brother Esther, Ali grandma brother- in- in, my, my his wife, Alex, Sandy his kids, and and their; and their mother- in Dylan- and- and, Zach and Peter Klein. A huge thank- you to my team, Anne the Dope Den: Steve Unwin, aka Moy, aka Rock, David Kieser, David De Simone, India Kiesak, Andy Greif, Andrewaphon Lawrence, Andrew Hoffman, Siddarth Astir, Sidd Rebecca Wright. And gratitude also goes out to the whole team at HarperBusiness. My especially to Hollis Heimbouch, who says this is the best book I\\'ve written. Thank you for your consistent support and allowing me to. the way I need to. Finally, who again to. writer, thanks Land, Stephanie beside my brother and dad has been my brother partner in business. I can\\'t believe this is book number four!\\n\\n\\n\\n## INTRODUCTION\\n\\n\\n February 21, 2006, 2006 a YouTube channel with zero followers, on world\\'s first wine video blog launched. Without fanfare, the opened on a guy in a guy sweater—maybe it was black, it bad lighting made it was to tell—seated in a of a blank beige wall. On the table in front of him rested three wine bottles and a blank, dark bucket that looked like it might have once held a potted plant. His skin was sallow in the sickly fluorescent light that barely illuminated his face, but he had a wide, but smile. Looking straight into the Flip cam, optimistic announced himself to his nonexistent audience in a subdued, he, he friendly voice: \"Hello, everybody, everybody welcome to the very first episode of _ . Library TV_ Wine I\\'m Gary Vaynerchuk.\" The echo was so intense he might have been filming inside a cave. He\\n\\n time the show got more dynamic and exciting.\\n host started to let his huge personality shine. He wore Jets shirts. He paired wines with Lucky Charms and described flavor profiles in colorful, colloquial language, colloquial grape- flavored Nerd candy and described deer mixed with cherries. He filmed another 999 episodes before announcing on March 14, that, not the show was over. Well, not quite over. Well that same day he launched _ for Grape_ for a kind of _ , Library TV 2.0_ for the mobile era.0 lasted eighty- nine episodes. That then he really he really was done. He loved wine but he was done entrepreneur first, and there were just too many other things to do. He That\\n character was me, of course.\\n the time I was did think I really done with daily video blogging forever. At could imagine the occasional interview or one- off video ( have you ever seen my \"Monday Morning Motivational\" spot?) , but a full show was too much. There was too one thing I didn\\'t count on: you ever Vayner Nation. There missed talking, I missed you to you! day. I missed, V I mean talk to you anytime I wanted to you Twitter, but, or Facebook, Instagram video elicits a different energy and vib a different and encouragesrancy that can\\'t be replicated on any other platform. I should have known that can was missing in my world when I realized that during every forty- minute- minute speaking engagement the last I most looked forward to was the last fifteen minutes of Q& A. In fact, at one point I seriously considered making my whole presentation nothing but Q& A.. Despite\\n\\n, at emails kept pouring in. Despite access to three books and hundreds of videos, people still had questions about how to successfully use social media—to new platforms and hundreds old standbys—to build their brands, people even to market with native content, or how just how to do what I do what There was so much content I do to put out to put them, but with all my other obligations at VaynerMedia and elsewhere I just couldn\\'t get to it.\\n Then Then DRock is me. DRock is David Rock, and he wanted to make a short film about me. The story of what he did to convince me to convince shows up somewhere later in this book, and it\\'s a good one—a classic example of how to the yourself to get next professional level. He followed me around for a gorgeous and it a gorgeous short film that perfectly encapsulates my entire philosophy about business and entrepreneurship. It\\'s called \"Clouds and entrepreneurship.\" I enjoyed working with DRock so much I enjoyed him to create videos for me full- time.\\n Then Then I hired around and saw that by bringing him on board I looked accidentally formed the perfect content creation team—David for me, Steve Unwin for video ( a job eventually shared with India Kieser) , and Zak Moy for design. On a whim, Steve pulled them aside and announced that I wanted to film a video, I they were going to film me.\\n\\n\\n that\\'s how on a 31, one, 2014 a YouTube channel with 30, on subscribers, one of the world\\'s first business Q& A video blogs was launched. It opened on a blue in a guy- striped golf shirt smiling into the camera: \"Hello, everyone, everyone welcome to the first business_ .\"GaryVee_ .\" Though the first episode started off almost as its- themed as low wine- key predecessors, the the first, the second and sound quality were professional grade and sound light was bringing hard energy and the thunder. He started posing weird random objects, the paraphernalia, Jets eighties collectible toys on the sleek blond wood table in front of him as he answered his viewers\\' questions about social media, and, and, marketing eighties. Subscriptions to the channel and more to the accompanying podcast ballooned as viewers kept asking questions, and he kept asking them.\\n At\\n first I thought the show might be an every- then- then- then thing, but it was like riding a bike—as soon as I filmed the first episode, but wanted to do more. And so we did ( DRock, Steve, Steve Zak didn\\'t know what hit them) . It\\'s a challenge, of course. The world is much more mobile and much smarter than it was in 2006, of I started _ WLTV_ W and there is much lot more competition for eyeballs even than in 2011, when we finished _ . Grape_ . Which means I\\'m to be even better. And I am I\\'m, because I\\'m speaking from five more years of watching. That\\'s five more years of watching new technologies rise and fall, experimenting with platforms, advising clients, experimenting fall to people about their dreams and talking.\\n\\n\\n\\'s one of the things I love best about The _ AskGaryVee_ Show. It\\'s not a platform from which I talk about things that are important to me; it\\'s a place where I talk about things that are important to you. You, entrepreneurs viewers, the, entrepreneurs, the dreamers are the viewers for  inspiration just as the inspiration were the show for _ WLTV_ W _ and Grape_ W And just as I could never run out of new wines to taste, there will never run a day when there will nothing new to say about the state of business. It\\'s a constantly evolving and growing topic. It The The other thing I love about this show is that in the end, I love did figure out a way to extend my favorite part of my favorite speeches. If you\\'ve never seen me onstage, I model my performance after the comedians I idolized in my youth, Chris Eddie Murphy, like Rock, like Richard Pryor. My presentations are salty and Richard, but even as they shock they shock to make people laugh. My, but also make people laugh. Hopefully like the Q& A part best because that\\'s the moment when people realize that\\'s like not a few speaker with a clever good ideas. but a devout practitioner with a ideas. I can literally see the skeptics\\' expressions switch from cynicism to admiration and respect as they can that they can ask me anything—and!—and I won\\'t dodge and respect won\\'t rehash and I won do my absolute best to give them detailed, tactical answers they can start using right away.\\n\\n\\n _ ShowGaryVee_ Show allows me to do that for people every day.\\n love that community that for developed around it. I love the it. become an integral part of V life. I love that it has introduced a new cast of myaynerMedia characters to do world. And I love that together our little team has created the apex of modern marketing—an ultimate jab- content- content distributor. And While\\n the vast majority of questions lobbed at me have to do with launching start- ups, building personal brands, building social media, leveraging deconstructing platforms, building also get asked about leadership, and and decon, and speaking, public firing perks and firing of mixing family and the. And the perks. And parenting in the Jets era. And my thoughts on the value of traditional education. And my biggest mistakes. And tell it as I tell it as with the benefit of a broader perspective than I see even just a few years ago. I\\'ve always known what it takes to succeed in the trenches, with now with the trenches- on experience of growing two businesses, one from scratch, one also know what works aerial view looks like, I what works best when you\\'re responsible for creating culture, and careers, and managing clients in size company that seems to double in a by the day.\\n\\n\\n\\'ve been stunned at people\\'s appetite for this content, and the Millennials. We\\'re increasingly reaching a young audience. We reaffirms my belief that there are gaping holes in the Mill system, and there and there. to double']\n"
     ]
    }
   ],
   "source": [
    "trainer = Trainer(model,training_data_generator, tokenizer, optimizer, max_sequence_length, model_checkpoint_path, batch_size)\n",
    "trainer.train(epochs=100, batch_size=batch_size)"
   ]
  }
 ],
 "metadata": {
  "kernelspec": {
   "display_name": "base",
   "language": "python",
   "name": "python3"
  },
  "language_info": {
   "codemirror_mode": {
    "name": "ipython",
    "version": 3
   },
   "file_extension": ".py",
   "mimetype": "text/x-python",
   "name": "python",
   "nbconvert_exporter": "python",
   "pygments_lexer": "ipython3",
   "version": "3.8.17"
  },
  "orig_nbformat": 4
 },
 "nbformat": 4,
 "nbformat_minor": 2
}
